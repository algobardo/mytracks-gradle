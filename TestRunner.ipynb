{
 "metadata": {
  "name": "",
  "signature": "sha256:d8f43eb534b93db2291ad3a5f6cd28de5f4863ce81dad481e03f7470290f4f0c"
 },
 "nbformat": 3,
 "nbformat_minor": 0,
 "worksheets": [
  {
   "cells": [
    {
     "cell_type": "code",
     "collapsed": false,
     "input": [
      "import os\n",
      "%rehashx"
     ],
     "language": "python",
     "metadata": {},
     "outputs": [],
     "prompt_number": 1
    },
    {
     "cell_type": "heading",
     "level": 3,
     "metadata": {},
     "source": [
      "Compile"
     ]
    },
    {
     "cell_type": "heading",
     "level": 5,
     "metadata": {},
     "source": [
      "Application build"
     ]
    },
    {
     "cell_type": "code",
     "collapsed": false,
     "input": [
      "!./gradlew assembleDebug assembleDebugTest"
     ],
     "language": "python",
     "metadata": {},
     "outputs": [
      {
       "output_type": "stream",
       "stream": "stdout",
       "text": [
        "Downloading http://services.gradle.org/distributions/gradle-1.10-all.zip\r\n"
       ]
      },
      {
       "output_type": "stream",
       "stream": "stdout",
       "text": [
        ".."
       ]
      },
      {
       "output_type": "stream",
       "stream": "stdout",
       "text": [
        "......"
       ]
      },
      {
       "output_type": "stream",
       "stream": "stdout",
       "text": [
        "........."
       ]
      },
      {
       "output_type": "stream",
       "stream": "stdout",
       "text": [
        "......."
       ]
      },
      {
       "output_type": "stream",
       "stream": "stdout",
       "text": [
        "............."
       ]
      },
      {
       "output_type": "stream",
       "stream": "stdout",
       "text": [
        "............."
       ]
      },
      {
       "output_type": "stream",
       "stream": "stdout",
       "text": [
        ".............."
       ]
      },
      {
       "output_type": "stream",
       "stream": "stdout",
       "text": [
        "..........."
       ]
      },
      {
       "output_type": "stream",
       "stream": "stdout",
       "text": [
        "...................."
       ]
      },
      {
       "output_type": "stream",
       "stream": "stdout",
       "text": [
        "..................."
       ]
      },
      {
       "output_type": "stream",
       "stream": "stdout",
       "text": [
        "................"
       ]
      },
      {
       "output_type": "stream",
       "stream": "stdout",
       "text": [
        "......................"
       ]
      },
      {
       "output_type": "stream",
       "stream": "stdout",
       "text": [
        ".........................."
       ]
      },
      {
       "output_type": "stream",
       "stream": "stdout",
       "text": [
        "............................."
       ]
      },
      {
       "output_type": "stream",
       "stream": "stdout",
       "text": [
        "................"
       ]
      },
      {
       "output_type": "stream",
       "stream": "stdout",
       "text": [
        "................................"
       ]
      },
      {
       "output_type": "stream",
       "stream": "stdout",
       "text": [
        "................................."
       ]
      },
      {
       "output_type": "stream",
       "stream": "stdout",
       "text": [
        "................................"
       ]
      },
      {
       "output_type": "stream",
       "stream": "stdout",
       "text": [
        "........................."
       ]
      },
      {
       "output_type": "stream",
       "stream": "stdout",
       "text": [
        "......................................."
       ]
      },
      {
       "output_type": "stream",
       "stream": "stdout",
       "text": [
        ".........................................."
       ]
      },
      {
       "output_type": "stream",
       "stream": "stdout",
       "text": [
        "..................................."
       ]
      },
      {
       "output_type": "stream",
       "stream": "stdout",
       "text": [
        "................................"
       ]
      },
      {
       "output_type": "stream",
       "stream": "stdout",
       "text": [
        "............................................."
       ]
      },
      {
       "output_type": "stream",
       "stream": "stdout",
       "text": [
        "............................................."
       ]
      },
      {
       "output_type": "stream",
       "stream": "stdout",
       "text": [
        ".........................................."
       ]
      },
      {
       "output_type": "stream",
       "stream": "stdout",
       "text": [
        "..............................."
       ]
      },
      {
       "output_type": "stream",
       "stream": "stdout",
       "text": [
        ".............................................."
       ]
      },
      {
       "output_type": "stream",
       "stream": "stdout",
       "text": [
        ".................................................."
       ]
      },
      {
       "output_type": "stream",
       "stream": "stdout",
       "text": [
        "..............................."
       ]
      },
      {
       "output_type": "stream",
       "stream": "stdout",
       "text": [
        "......................................"
       ]
      },
      {
       "output_type": "stream",
       "stream": "stdout",
       "text": [
        "...................................................."
       ]
      },
      {
       "output_type": "stream",
       "stream": "stdout",
       "text": [
        "..................................................."
       ]
      },
      {
       "output_type": "stream",
       "stream": "stdout",
       "text": [
        ".........................."
       ]
      },
      {
       "output_type": "stream",
       "stream": "stdout",
       "text": [
        "............................................."
       ]
      },
      {
       "output_type": "stream",
       "stream": "stdout",
       "text": [
        "................................................"
       ]
      },
      {
       "output_type": "stream",
       "stream": "stdout",
       "text": [
        "................................"
       ]
      },
      {
       "output_type": "stream",
       "stream": "stdout",
       "text": [
        "......................................."
       ]
      },
      {
       "output_type": "stream",
       "stream": "stdout",
       "text": [
        "................................................"
       ]
      },
      {
       "output_type": "stream",
       "stream": "stdout",
       "text": [
        "..................................................."
       ]
      },
      {
       "output_type": "stream",
       "stream": "stdout",
       "text": [
        ".........................."
       ]
      },
      {
       "output_type": "stream",
       "stream": "stdout",
       "text": [
        "................................................"
       ]
      },
      {
       "output_type": "stream",
       "stream": "stdout",
       "text": [
        "................................................."
       ]
      },
      {
       "output_type": "stream",
       "stream": "stdout",
       "text": [
        "......................................"
       ]
      },
      {
       "output_type": "stream",
       "stream": "stdout",
       "text": [
        "..................................."
       ]
      },
      {
       "output_type": "stream",
       "stream": "stdout",
       "text": [
        "...................................................."
       ]
      },
      {
       "output_type": "stream",
       "stream": "stdout",
       "text": [
        "................................................"
       ]
      },
      {
       "output_type": "stream",
       "stream": "stdout",
       "text": [
        "........................"
       ]
      },
      {
       "output_type": "stream",
       "stream": "stdout",
       "text": [
        "............................................"
       ]
      },
      {
       "output_type": "stream",
       "stream": "stdout",
       "text": [
        "................................"
       ]
      },
      {
       "output_type": "stream",
       "stream": "stdout",
       "text": [
        ".........................................."
       ]
      },
      {
       "output_type": "stream",
       "stream": "stdout",
       "text": [
        "................................................"
       ]
      },
      {
       "output_type": "stream",
       "stream": "stdout",
       "text": [
        "................................"
       ]
      },
      {
       "output_type": "stream",
       "stream": "stdout",
       "text": [
        ".........................................."
       ]
      },
      {
       "output_type": "stream",
       "stream": "stdout",
       "text": [
        "............................................."
       ]
      },
      {
       "output_type": "stream",
       "stream": "stdout",
       "text": [
        ".........................................."
       ]
      },
      {
       "output_type": "stream",
       "stream": "stdout",
       "text": [
        "...................................."
       ]
      },
      {
       "output_type": "stream",
       "stream": "stdout",
       "text": [
        "..............................................."
       ]
      },
      {
       "output_type": "stream",
       "stream": "stdout",
       "text": [
        ".........................................."
       ]
      },
      {
       "output_type": "stream",
       "stream": "stdout",
       "text": [
        "................................"
       ]
      },
      {
       "output_type": "stream",
       "stream": "stdout",
       "text": [
        "............................................."
       ]
      },
      {
       "output_type": "stream",
       "stream": "stdout",
       "text": [
        "............................................."
       ]
      },
      {
       "output_type": "stream",
       "stream": "stdout",
       "text": [
        "............................................."
       ]
      },
      {
       "output_type": "stream",
       "stream": "stdout",
       "text": [
        "......................."
       ]
      },
      {
       "output_type": "stream",
       "stream": "stdout",
       "text": [
        "............................................."
       ]
      },
      {
       "output_type": "stream",
       "stream": "stdout",
       "text": [
        "................................................"
       ]
      },
      {
       "output_type": "stream",
       "stream": "stdout",
       "text": [
        ".........................................."
       ]
      },
      {
       "output_type": "stream",
       "stream": "stdout",
       "text": [
        "................................"
       ]
      },
      {
       "output_type": "stream",
       "stream": "stdout",
       "text": [
        "..................................................."
       ]
      },
      {
       "output_type": "stream",
       "stream": "stdout",
       "text": [
        "................................................"
       ]
      },
      {
       "output_type": "stream",
       "stream": "stdout",
       "text": [
        "............................."
       ]
      },
      {
       "output_type": "stream",
       "stream": "stdout",
       "text": [
        ".........................................."
       ]
      },
      {
       "output_type": "stream",
       "stream": "stdout",
       "text": [
        "................................................"
       ]
      },
      {
       "output_type": "stream",
       "stream": "stdout",
       "text": [
        "............................................."
       ]
      },
      {
       "output_type": "stream",
       "stream": "stdout",
       "text": [
        "...................................."
       ]
      },
      {
       "output_type": "stream",
       "stream": "stdout",
       "text": [
        "......................................"
       ]
      },
      {
       "output_type": "stream",
       "stream": "stdout",
       "text": [
        "............................................."
       ]
      },
      {
       "output_type": "stream",
       "stream": "stdout",
       "text": [
        "........................\r\n",
        "Unzipping /Users/mezzetti/.gradle/wrapper/dists/gradle-1.10-all/6vpvhqu0efs1fqmqr2decq1v12/gradle-1.10-all.zip to /Users/mezzetti/.gradle/wrapper/dists/gradle-1.10-all/6vpvhqu0efs1fqmqr2decq1v12\r\n"
       ]
      },
      {
       "output_type": "stream",
       "stream": "stdout",
       "text": [
        "Set executable permissions for: /Users/mezzetti/.gradle/wrapper/dists/gradle-1.10-all/6vpvhqu0efs1fqmqr2decq1v12/gradle-1.10/bin/gradle\r\n"
       ]
      },
      {
       "output_type": "stream",
       "stream": "stdout",
       "text": [
        "\u001b[m"
       ]
      },
      {
       "output_type": "stream",
       "stream": "stdout",
       "text": [
        "\u001b[1m> Loading\u001b[22m"
       ]
      },
      {
       "output_type": "stream",
       "stream": "stdout",
       "text": [
        "\u001b[1m > Compiling script into cache\u001b[22m"
       ]
      },
      {
       "output_type": "stream",
       "stream": "stdout",
       "text": [
        "\u001b[30D\u001b[0K"
       ]
      },
      {
       "output_type": "stream",
       "stream": "stdout",
       "text": [
        "\u001b[1m > Resolving dependencies 'classpath'\u001b[22m\u001b[37D\u001b[0K\u001b[1m > Compiling script into cache\u001b[22m"
       ]
      },
      {
       "output_type": "stream",
       "stream": "stdout",
       "text": [
        "\u001b[30D\u001b[0K"
       ]
      },
      {
       "output_type": "stream",
       "stream": "stdout",
       "text": [
        "\u001b[7D\u001b[1mConfiguring\u001b[22m"
       ]
      },
      {
       "output_type": "stream",
       "stream": "stdout",
       "text": [
        "\u001b[1m > 0/3 projects\u001b[22m"
       ]
      },
      {
       "output_type": "stream",
       "stream": "stdout",
       "text": [
        "\u001b[1m > root project\u001b[22m"
       ]
      },
      {
       "output_type": "stream",
       "stream": "stdout",
       "text": [
        "\u001b[1m > Compiling script into cache\u001b[22m"
       ]
      },
      {
       "output_type": "stream",
       "stream": "stdout",
       "text": [
        "\u001b[30D\u001b[0K"
       ]
      },
      {
       "output_type": "stream",
       "stream": "stdout",
       "text": [
        "\u001b[1m > Resolving dependencies ':classpath'\u001b[22m"
       ]
      },
      {
       "output_type": "stream",
       "stream": "stdout",
       "text": [
        "\u001b[38D\u001b[0K"
       ]
      },
      {
       "output_type": "stream",
       "stream": "stdout",
       "text": [
        "\u001b[1m > Compiling script into cache\u001b[22m"
       ]
      },
      {
       "output_type": "stream",
       "stream": "stdout",
       "text": [
        "\u001b[30D\u001b[0K\u001b[15D\u001b[0K\u001b[12D\u001b[1m1/3 projects\u001b[22m\u001b[1m > :app\u001b[22m"
       ]
      },
      {
       "output_type": "stream",
       "stream": "stdout",
       "text": [
        "\u001b[1m > Compiling script into cache\u001b[22m\u001b[30D\u001b[0K\u001b[1m > Resolving dependencies ':app:classpath'\u001b[22m\u001b[42D\u001b[0K\u001b[1m > Compiling script into cache\u001b[22m"
       ]
      },
      {
       "output_type": "stream",
       "stream": "stdout",
       "text": [
        "\u001b[30D\u001b[0K"
       ]
      },
      {
       "output_type": "stream",
       "stream": "stdout",
       "text": [
        "\u001b[7D\u001b[0K\u001b[12D\u001b[1m2/3 projects\u001b[22m"
       ]
      },
      {
       "output_type": "stream",
       "stream": "stdout",
       "text": [
        "\u001b[1m > :mytrackslib\u001b[22m"
       ]
      },
      {
       "output_type": "stream",
       "stream": "stdout",
       "text": [
        "\u001b[1m > Compiling script into cache\u001b[22m\u001b[30D\u001b[0K\u001b[1m > Resolving dependencies ':mytrackslib:classpath'\u001b[22m\u001b[50D\u001b[0K\u001b[1m > Compiling script into cache\u001b[22m"
       ]
      },
      {
       "output_type": "stream",
       "stream": "stdout",
       "text": [
        "\u001b[30D\u001b[0K"
       ]
      },
      {
       "output_type": "stream",
       "stream": "stdout",
       "text": [
        "\u001b[15D\u001b[0K\u001b[12D\u001b[1m3/3 projects\u001b[22m"
       ]
      },
      {
       "output_type": "stream",
       "stream": "stdout",
       "text": [
        "\u001b[1m > Resolving dependencies ':mytrackslib:_debugCompile'\u001b[22m"
       ]
      },
      {
       "output_type": "stream",
       "stream": "stdout",
       "text": [
        "\u001b[82D\u001b[0KRelying on packaging to define the extension of the main artifact has been deprecated and is scheduled to be removed in Gradle 2.0\r\n",
        "\u001b[1m> Configuring > 3/3 projects > Resolving dependencies ':mytrackslib:_debugCompile'\u001b[22m\u001b[82D\u001b[0K\u001b[1A\u001b[130C\r\n",
        "\u001b[1m> Configuring > 3/3 projects > Resolving dependencies ':mytrackslib:_debugCompile'\u001b[22m"
       ]
      },
      {
       "output_type": "stream",
       "stream": "stdout",
       "text": [
        "\u001b[54D\u001b[0K"
       ]
      },
      {
       "output_type": "stream",
       "stream": "stdout",
       "text": [
        "\u001b[1m > Resolving dependencies ':mytrackslib:_debugPublish'\u001b[22m\u001b[54D\u001b[0K"
       ]
      },
      {
       "output_type": "stream",
       "stream": "stdout",
       "text": [
        "\u001b[1m > Resolving dependencies ':mytrackslib:_releaseCompile'\u001b[22m\u001b[56D\u001b[0K\u001b[1m > Resolving dependencies ':mytrackslib:_releasePublish'\u001b[22m\u001b[56D\u001b[0K"
       ]
      },
      {
       "output_type": "stream",
       "stream": "stdout",
       "text": [
        "\u001b[1m > Resolving dependencies ':mytrackslib:_debugTestCompile'\u001b[22m"
       ]
      },
      {
       "output_type": "stream",
       "stream": "stdout",
       "text": [
        "\u001b[58D\u001b[0K\u001b[1m > Resolving dependencies ':mytrackslib:_debugTestPublish'\u001b[22m\u001b[58D\u001b[0K"
       ]
      },
      {
       "output_type": "stream",
       "stream": "stdout",
       "text": [
        "\u001b[1m > Resolving dependencies ':app:_debugCompile'\u001b[22m"
       ]
      },
      {
       "output_type": "stream",
       "stream": "stdout",
       "text": [
        "\u001b[46D\u001b[0K\u001b[1m > Resolving dependencies ':app:_debugApk'\u001b[22m\u001b[42D\u001b[0K\u001b[1m > Resolving dependencies ':app:_releaseCompile'\u001b[22m\u001b[48D\u001b[0K\u001b[1m > Resolving dependencies ':app:_releaseApk'\u001b[22m\u001b[44D\u001b[0K"
       ]
      },
      {
       "output_type": "stream",
       "stream": "stdout",
       "text": [
        "\u001b[1m > Resolving dependencies ':app:_debugTestCompile'\u001b[22m"
       ]
      },
      {
       "output_type": "stream",
       "stream": "stdout",
       "text": [
        "\u001b[78D\u001b[0KDownload http://repo1.maven.org/maven2/jgrapht/jgrapht/0.7.3/jgrapht-0.7.3.pom\r\n",
        "\u001b[1m> Configuring > 3/3 projects > Resolving dependencies ':app:_debugTestCompile'\u001b[22m\u001b[78D\u001b[0K\u001b[1A\u001b[78C\r\n",
        "\u001b[1m> Configuring > 3/3 projects > Resolving dependencies ':app:_debugTestCompile'\u001b[22m"
       ]
      },
      {
       "output_type": "stream",
       "stream": "stdout",
       "text": [
        "\u001b[78D\u001b[0KDownload http://repo1.maven.org/maven2/com/jayway/android/robotium/robotium-solo/5.1/robotium-solo-5.1.pom\r\n",
        "\u001b[1m> Configuring > 3/3 projects > Resolving dependencies ':app:_debugTestCompile'\u001b[22m\u001b[1m > 1 KB/1 KB downloaded\u001b[22m\u001b[23D\u001b[0K\u001b[78D\u001b[0K\u001b[1A\u001b[106C\r\n",
        "\u001b[1m> Configuring > 3/3 projects > Resolving dependencies ':app:_debugTestCompile'\u001b[22m\u001b[78D\u001b[0KDownload http://repo1.maven.org/maven2/com/jayway/android/robotium/robotium/5.1/robotium-5.1.pom\r\n",
        "\u001b[1m> Configuring > 3/3 projects > Resolving dependencies ':app:_debugTestCompile'\u001b[22m\u001b[1m > 4 KB/11 KB downloaded\u001b[22m\u001b[21D\u001b[1m7 KB/11 KB downloaded\u001b[22m\u001b[21D\u001b[1m11 KB/11 KB downloaded\u001b[22m\u001b[25D\u001b[0K\u001b[78D\u001b[0K\u001b[1A\u001b[96C\r\n",
        "\u001b[1m> Configuring > 3/3 projects > Resolving dependencies ':app:_debugTestCompile'\u001b[22m"
       ]
      },
      {
       "output_type": "stream",
       "stream": "stdout",
       "text": [
        "\u001b[78D\u001b[0KDownload http://repo1.maven.org/maven2/com/jakewharton/espresso/espresso/1.1-r2/espresso-1.1-r2.pom\r\n",
        "\u001b[1m> Configuring > 3/3 projects > Resolving dependencies ':app:_debugTestCompile'\u001b[22m\u001b[1m > 2 KB/2 KB downloaded\u001b[22m\u001b[23D\u001b[0K\u001b[78D\u001b[0K\u001b[1A\u001b[99C\r\n",
        "\u001b[1m> Configuring > 3/3 projects > Resolving dependencies ':app:_debugTestCompile'\u001b[22m"
       ]
      },
      {
       "output_type": "stream",
       "stream": "stdout",
       "text": [
        "\u001b[78D\u001b[0KDownload http://repo1.maven.org/maven2/org/jgrapht/jgrapht-jdk1.5/0.7.3/jgrapht-jdk1.5-0.7.3.pom\r\n",
        "\u001b[1m> Configuring > 3/3 projects > Resolving dependencies ':app:_debugTestCompile'\u001b[22m\u001b[1m > 1 KB/1 KB downloaded\u001b[22m\u001b[23D\u001b[0K\u001b[78D\u001b[0K\u001b[1A\u001b[96C\r\n",
        "\u001b[1m> Configuring > 3/3 projects > Resolving dependencies ':app:_debugTestCompile'\u001b[22m\u001b[78D\u001b[0KDownload http://repo1.maven.org/maven2/com/jakewharton/espresso/espresso-runner-runtime/1.1-r2/espresso-runner-runtime-1.1-r2.pom\r\n",
        "\u001b[1m> Configuring > 3/3 projects > Resolving dependencies ':app:_debugTestCompile'\u001b[22m\u001b[1m > 1 KB/1 KB downloaded\u001b[22m\u001b[23D\u001b[0K\u001b[78D\u001b[0K\u001b[1A\u001b[129C\r\n",
        "\u001b[1m> Configuring > 3/3 projects > Resolving dependencies ':app:_debugTestCompile'\u001b[22m"
       ]
      },
      {
       "output_type": "stream",
       "stream": "stdout",
       "text": [
        "\u001b[78D\u001b[0KDownload http://repo1.maven.org/maven2/com/squareup/dagger/dagger/1.2.1/dagger-1.2.1.pom\r\n",
        "\u001b[1m> Configuring > 3/3 projects > Resolving dependencies ':app:_debugTestCompile'\u001b[22m\u001b[1m > 2 KB/2 KB downloaded\u001b[22m\u001b[23D\u001b[0K\u001b[78D\u001b[0K\u001b[1A\u001b[88C\r\n",
        "\u001b[1m> Configuring > 3/3 projects > Resolving dependencies ':app:_debugTestCompile'\u001b[22m"
       ]
      },
      {
       "output_type": "stream",
       "stream": "stdout",
       "text": [
        "\u001b[78D\u001b[0KDownload http://repo1.maven.org/maven2/com/squareup/dagger/dagger-parent/1.2.1/dagger-parent-1.2.1.pom\r\n",
        "\u001b[1m> Configuring > 3/3 projects > Resolving dependencies ':app:_debugTestCompile'\u001b[22m\u001b[1m > 2 KB/5 KB downloaded\u001b[22m\u001b[20D\u001b[1m5 KB/5 KB downloaded\u001b[22m\u001b[23D\u001b[0K\u001b[78D\u001b[0K\u001b[1A\u001b[102C\r\n",
        "\u001b[1m> Configuring > 3/3 projects > Resolving dependencies ':app:_debugTestCompile'\u001b[22m"
       ]
      },
      {
       "output_type": "stream",
       "stream": "stdout",
       "text": [
        "\u001b[78D\u001b[0KDownload http://repo1.maven.org/maven2/org/hamcrest/hamcrest-integration/1.1/hamcrest-integration-1.1.pom\r\n",
        "\u001b[1m> Configuring > 3/3 projects > Resolving dependencies ':app:_debugTestCompile'\u001b[22m\u001b[78D\u001b[0K\u001b[1A\u001b[105C\r\n",
        "\u001b[1m> Configuring > 3/3 projects > Resolving dependencies ':app:_debugTestCompile'\u001b[22m"
       ]
      },
      {
       "output_type": "stream",
       "stream": "stdout",
       "text": [
        "\u001b[78D\u001b[0KDownload http://repo1.maven.org/maven2/org/hamcrest/hamcrest-parent/1.1/hamcrest-parent-1.1.pom\r\n",
        "\u001b[1m> Configuring > 3/3 projects > Resolving dependencies ':app:_debugTestCompile'\u001b[22m\u001b[1m > 2 KB/5 KB downloaded\u001b[22m\u001b[20D\u001b[1m5 KB/5 KB downloaded\u001b[22m\u001b[23D\u001b[0K\u001b[78D\u001b[0K\u001b[1A\u001b[95C\r\n",
        "\u001b[1m> Configuring > 3/3 projects > Resolving dependencies ':app:_debugTestCompile'\u001b[22m"
       ]
      },
      {
       "output_type": "stream",
       "stream": "stdout",
       "text": [
        "\u001b[78D\u001b[0KDownload http://repo1.maven.org/maven2/com/google/guava/guava/16.0/guava-16.0.pom\r\n",
        "\u001b[1m> Configuring > 3/3 projects > Resolving dependencies ':app:_debugTestCompile'\u001b[22m\u001b[1m > 2 KB/5 KB downloaded\u001b[22m\u001b[20D\u001b[1m5 KB/5 KB downloaded\u001b[22m\u001b[23D\u001b[0K\u001b[78D\u001b[0K\u001b[1A\u001b[81C\r\n",
        "\u001b[1m> Configuring > 3/3 projects > Resolving dependencies ':app:_debugTestCompile'\u001b[22m"
       ]
      },
      {
       "output_type": "stream",
       "stream": "stdout",
       "text": [
        "\u001b[78D\u001b[0KDownload http://repo1.maven.org/maven2/com/google/guava/guava-parent/16.0/guava-parent-16.0.pom\r\n",
        "\u001b[1m> Configuring > 3/3 projects > Resolving dependencies ':app:_debugTestCompile'\u001b[22m\u001b[1m > 2 KB/7 KB downloaded\u001b[22m\u001b[20D\u001b[1m6 KB/7 KB downloaded\u001b[22m\u001b[20D\u001b[1m7 KB/7 KB downloaded\u001b[22m\u001b[23D\u001b[0K\u001b[78D\u001b[0K\u001b[1A\u001b[95C\r\n",
        "\u001b[1m> Configuring > 3/3 projects > Resolving dependencies ':app:_debugTestCompile'\u001b[22m"
       ]
      },
      {
       "output_type": "stream",
       "stream": "stdout",
       "text": [
        "\u001b[78D\u001b[0KDownload http://repo1.maven.org/maven2/org/hamcrest/hamcrest-library/1.1/hamcrest-library-1.1.pom\r\n",
        "\u001b[1m> Configuring > 3/3 projects > Resolving dependencies ':app:_debugTestCompile'\u001b[22m\u001b[78D\u001b[0K\u001b[1A\u001b[97C\r\n",
        "\u001b[1m> Configuring > 3/3 projects > Resolving dependencies ':app:_debugTestCompile'\u001b[22m"
       ]
      },
      {
       "output_type": "stream",
       "stream": "stdout",
       "text": [
        "\u001b[78D\u001b[0KDownload http://repo1.maven.org/maven2/javax/annotation/javax.annotation-api/1.2/javax.annotation-api-1.2.pom\r\n",
        "\u001b[1m> Configuring > 3/3 projects > Resolving dependencies ':app:_debugTestCompile'\u001b[22m\u001b[1m > 2 KB/13 KB downloaded\u001b[22m\u001b[21D\u001b[1m6 KB/13 KB downloaded\u001b[22m\u001b[21D\u001b[1m10 KB/13 KB downloaded\u001b[22m\u001b[21D\u001b[1m3 KB/13 KB downloaded\u001b[22m\u001b[25D\u001b[0K\u001b[78D\u001b[0K\u001b[1A\u001b[109C\r\n",
        "\u001b[1m> Configuring > 3/3 projects > Resolving dependencies ':app:_debugTestCompile'\u001b[22m"
       ]
      },
      {
       "output_type": "stream",
       "stream": "stdout",
       "text": [
        "\u001b[78D\u001b[0KDownload http://repo1.maven.org/maven2/net/java/jvnet-parent/3/jvnet-parent-3.pom\r\n",
        "\u001b[1m> Configuring > 3/3 projects > Resolving dependencies ':app:_debugTestCompile'\u001b[22m\u001b[1m > 4 KB/4 KB downloaded\u001b[22m\u001b[23D\u001b[0K\u001b[78D\u001b[0K\u001b[1A\u001b[81C\r\n",
        "\u001b[1m> Configuring > 3/3 projects > Resolving dependencies ':app:_debugTestCompile'\u001b[22m"
       ]
      },
      {
       "output_type": "stream",
       "stream": "stdout",
       "text": [
        "\u001b[78D\u001b[0KDownload http://repo1.maven.org/maven2/org/hamcrest/hamcrest-core/1.1/hamcrest-core-1.1.pom\r\n",
        "\u001b[1m> Configuring > 3/3 projects > Resolving dependencies ':app:_debugTestCompile'\u001b[22m\u001b[78D\u001b[0K\u001b[1A\u001b[91C\r\n",
        "\u001b[1m> Configuring > 3/3 projects > Resolving dependencies ':app:_debugTestCompile'\u001b[22m"
       ]
      },
      {
       "output_type": "stream",
       "stream": "stdout",
       "text": [
        "\u001b[78D\u001b[0KDownload http://repo1.maven.org/maven2/com/google/code/findbugs/jsr305/1.3.9/jsr305-1.3.9.pom\r\n",
        "\u001b[1m> Configuring > 3/3 projects > Resolving dependencies ':app:_debugTestCompile'\u001b[22m\u001b[78D\u001b[0K\u001b[1A\u001b[93C\r\n",
        "\u001b[1m> Configuring > 3/3 projects > Resolving dependencies ':app:_debugTestCompile'\u001b[22m\u001b[78D\u001b[0KDownload http://repo1.maven.org/maven2/com/jakewharton/espresso/espresso-runner/1.1-r2/espresso-runner-1.1-r2.pom\r\n",
        "\u001b[1m> Configuring > 3/3 projects > Resolving dependencies ':app:_debugTestCompile'\u001b[22m\u001b[1m > 1 KB/1 KB downloaded\u001b[22m\u001b[23D\u001b[0K\u001b[78D\u001b[0K\u001b[1A\u001b[113C\r\n",
        "\u001b[1m> Configuring > 3/3 projects > Resolving dependencies ':app:_debugTestCompile'\u001b[22m"
       ]
      },
      {
       "output_type": "stream",
       "stream": "stdout",
       "text": [
        "\u001b[78D\u001b[0KDownload http://repo1.maven.org/maven2/javax/inject/javax.inject/1/javax.inject-1.pom\r\n",
        "\u001b[1m> Configuring > 3/3 projects > Resolving dependencies ':app:_debugTestCompile'\u001b[22m\u001b[78D\u001b[0K\u001b[1A\u001b[85C\r\n",
        "\u001b[1m> Configuring > 3/3 projects > Resolving dependencies ':app:_debugTestCompile'\u001b[22m\u001b[50D\u001b[0K\u001b[1m > Resolving dependencies ':app:_debugTestApk'\u001b[22m"
       ]
      },
      {
       "output_type": "stream",
       "stream": "stdout",
       "text": [
        "\u001b[46D\u001b[0K\u001b[28D\u001b[0KDownload http://repo1.maven.org/maven2/org/jgrapht/jgrapht-jdk1.5/0.7.3/jgrapht-jdk1.5-0.7.3.jar\r\n",
        "\u001b[1m> Configuring > 3/3 projects\u001b[22m\u001b[1m > 2 KB/184 KB downloaded\u001b[22m\u001b[22D\u001b[1m6 KB/184 KB downloaded\u001b[22m\u001b[22D\u001b[1m10 KB/184 KB downloaded\u001b[22m\u001b[22D\u001b[1m4 KB/184 KB downloaded\u001b[22m\u001b[22D\u001b[1m6 KB/184 KB downloaded\u001b[22m"
       ]
      },
      {
       "output_type": "stream",
       "stream": "stdout",
       "text": [
        "\u001b[23D\u001b[1m20 KB/184 KB downloaded\u001b[22m\u001b[22D\u001b[1m4 KB/184 KB downloaded\u001b[22m\u001b[22D\u001b[1m8 KB/184 KB downloaded\u001b[22m\u001b[23D\u001b[1m32 KB/184 KB downloaded\u001b[22m\u001b[22D\u001b[1m6 KB/184 KB downloaded\u001b[22m\u001b[23D\u001b[1m40 KB/184 KB downloaded\u001b[22m\u001b[22D\u001b[1m3 KB/184 KB downloaded\u001b[22m\u001b[22D\u001b[1m6 KB/184 KB downloaded\u001b[22m\u001b[23D\u001b[1m50 KB/184 KB downloaded\u001b[22m\u001b[22D\u001b[1m4 KB/184 KB downloaded\u001b[22m\u001b[22D\u001b[1m8 KB/184 KB downloaded\u001b[22m\u001b[23D\u001b[1m62 KB/184 KB downloaded\u001b[22m\u001b[22D\u001b[1m6 KB/184 KB downloaded\u001b[22m\u001b[23D\u001b[1m70 KB/184 KB downloaded\u001b[22m\u001b[22D\u001b[1m4 KB/184 KB downloaded\u001b[22m\u001b[22D\u001b[1m8 KB/184 KB downloaded\u001b[22m\u001b[22D\u001b[1m9 KB/184 KB downloaded\u001b[22m\u001b[23D\u001b[1m83 KB/184 KB downloaded\u001b[22m"
       ]
      },
      {
       "output_type": "stream",
       "stream": "stdout",
       "text": [
        "\u001b[22D\u001b[1m7 KB/184 KB downloaded\u001b[22m\u001b[23D\u001b[1m91 KB/184 KB downloaded\u001b[22m\u001b[22D\u001b[1m5 KB/184 KB downloaded\u001b[22m\u001b[22D\u001b[1m9 KB/184 KB downloaded\u001b[22m\u001b[23D\u001b[1m103 KB/184 KB downloaded\u001b[22m\u001b[22D\u001b[1m7 KB/184 KB downloaded\u001b[22m\u001b[23D\u001b[1m11 KB/184 KB downloaded\u001b[22m\u001b[22D\u001b[1m5 KB/184 KB downloaded\u001b[22m\u001b[22D\u001b[1m9 KB/184 KB downloaded\u001b[22m\u001b[23D\u001b[1m23 KB/184 KB downloaded\u001b[22m\u001b[22D\u001b[1m7 KB/184 KB downloaded\u001b[22m\u001b[23D\u001b[1m31 KB/184 KB downloaded\u001b[22m\u001b[22D\u001b[1m5 KB/184 KB downloaded\u001b[22m\u001b[22D\u001b[1m9 KB/184 KB downloaded\u001b[22m\u001b[23D\u001b[1m43 KB/184 KB downloaded\u001b[22m\u001b[22D\u001b[1m5 KB/184 KB downloaded\u001b[22m\u001b[22D\u001b[1m7 KB/184 KB downloaded\u001b[22m\u001b[23D\u001b[1m51 KB/184 KB downloaded\u001b[22m\u001b[22D\u001b[1m5 KB/184 KB downloaded\u001b[22m\u001b[22D\u001b[1m9 KB/184 KB downloaded\u001b[22m\u001b[23D\u001b[1m63 KB/184 KB downloaded\u001b[22m\u001b[22D\u001b[1m7 KB/184 KB downloaded\u001b[22m\u001b[23D\u001b[1m71 KB/184 KB downloaded\u001b[22m\u001b[22D\u001b[1m5 KB/184 KB downloaded\u001b[22m\u001b[22D\u001b[1m9 KB/184 KB downloaded\u001b[22m\u001b[23D\u001b[1m83 KB/184 KB downloaded\u001b[22m\u001b[22D\u001b[1m4 KB/184 KB downloaded\u001b[22m\u001b[27D\u001b[0K\u001b[28D\u001b[0K\u001b[1A\u001b[96C\r\n",
        "\u001b[1m> Configuring > 3/3 projects\u001b[22m"
       ]
      },
      {
       "output_type": "stream",
       "stream": "stdout",
       "text": [
        "\u001b[28D\u001b[0KDownload http://repo1.maven.org/maven2/com/jayway/android/robotium/robotium-solo/5.1/robotium-solo-5.1.jar\r\n",
        "\u001b[1m> Configuring > 3/3 projects\u001b[22m\u001b[1m > 4 KB/109 KB downloaded\u001b[22m\u001b[22D\u001b[1m7 KB/109 KB downloaded\u001b[22m\u001b[22D\u001b[1m11 KB/109 KB downloaded\u001b[22m\u001b[22D\u001b[1m5 KB/109 KB downloaded\u001b[22m\u001b[22D\u001b[1m9 KB/109 KB downloaded\u001b[22m\u001b[23D\u001b[1m23 KB/109 KB downloaded\u001b[22m\u001b[22D\u001b[1m7 KB/109 KB downloaded\u001b[22m\u001b[23D\u001b[1m31 KB/109 KB downloaded\u001b[22m\u001b[22D\u001b[1m5 KB/109 KB downloaded\u001b[22m\u001b[22D\u001b[1m9 KB/109 KB downloaded\u001b[22m\u001b[23D\u001b[1m43 KB/109 KB downloaded\u001b[22m\u001b[22D\u001b[1m7 KB/109 KB downloaded\u001b[22m\u001b[23D\u001b[1m51 KB/109 KB downloaded\u001b[22m\u001b[22D\u001b[1m5 KB/109 KB downloaded\u001b[22m\u001b[22D\u001b[1m9 KB/109 KB downloaded\u001b[22m\u001b[23D\u001b[1m63 KB/109 KB downloaded\u001b[22m\u001b[22D\u001b[1m7 KB/109 KB downloaded\u001b[22m\u001b[23D\u001b[1m71 KB/109 KB downloaded\u001b[22m\u001b[22D\u001b[1m5 KB/109 KB downloaded\u001b[22m\u001b[22D\u001b[1m7 KB/109 KB downloaded\u001b[22m\u001b[22D\u001b[1m9 KB/109 KB downloaded\u001b[22m\u001b[23D\u001b[1m83 KB/109 KB downloaded\u001b[22m\u001b[22D\u001b[1m7 KB/109 KB downloaded\u001b[22m\u001b[23D\u001b[1m91 KB/109 KB downloaded\u001b[22m\u001b[22D\u001b[1m5 KB/109 KB downloaded\u001b[22m\u001b[22D\u001b[1m9 KB/109 KB downloaded\u001b[22m\u001b[23D\u001b[1m103 KB/109 KB downloaded\u001b[22m\u001b[22D\u001b[1m7 KB/109 KB downloaded\u001b[22m\u001b[22D\u001b[1m9 KB/109 KB downloaded\u001b[22m\u001b[27D\u001b[0K\u001b[28D\u001b[0K\u001b[1A\u001b[106C\r\n",
        "\u001b[1m> Configuring > 3/3 projects\u001b[22m\u001b[28D\u001b[0KDownload http://repo1.maven.org/maven2/javax/inject/javax.inject/1/javax.inject-1.jar\r\n",
        "\u001b[1m> Configuring > 3/3 projects\u001b[22m"
       ]
      },
      {
       "output_type": "stream",
       "stream": "stdout",
       "text": [
        "\u001b[1m > 2 KB/2 KB downloaded\u001b[22m\u001b[23D\u001b[0K\u001b[28D\u001b[0K\u001b[1A\u001b[85C\r\n",
        "\u001b[1m> Configuring > 3/3 projects\u001b[22m\u001b[28D\u001b[0KDownload http://repo1.maven.org/maven2/com/squareup/dagger/dagger/1.2.1/dagger-1.2.1.jar\r\n",
        "\u001b[1m> Configuring > 3/3 projects\u001b[22m\u001b[1m > 2 KB/59 KB downloaded\u001b[22m\u001b[21D\u001b[1m6 KB/59 KB downloaded\u001b[22m\u001b[21D\u001b[1m10 KB/59 KB downloaded\u001b[22m\u001b[21D\u001b[1m4 KB/59 KB downloaded\u001b[22m\u001b[21D\u001b[1m8 KB/59 KB downloaded\u001b[22m\u001b[22D\u001b[1m22 KB/59 KB downloaded\u001b[22m\u001b[21D\u001b[1m6 KB/59 KB downloaded\u001b[22m\u001b[22D\u001b[1m30 KB/59 KB downloaded\u001b[22m\u001b[21D\u001b[1m4 KB/59 KB downloaded\u001b[22m\u001b[21D\u001b[1m8 KB/59 KB downloaded\u001b[22m\u001b[22D\u001b[1m42 KB/59 KB downloaded\u001b[22m\u001b[21D\u001b[1m6 KB/59 KB downloaded\u001b[22m\u001b[22D\u001b[1m50 KB/59 KB downloaded\u001b[22m\u001b[21D\u001b[1m4 KB/59 KB downloaded\u001b[22m\u001b[21D\u001b[1m8 KB/59 KB downloaded\u001b[22m\u001b[21D\u001b[1m9 KB/59 KB downloaded\u001b[22m\u001b[25D\u001b[0K\u001b[28D\u001b[0K\u001b[1A\u001b[88C\r\n",
        "\u001b[1m> Configuring > 3/3 projects\u001b[22m"
       ]
      },
      {
       "output_type": "stream",
       "stream": "stdout",
       "text": [
        "\u001b[28D\u001b[0KDownload http://repo1.maven.org/maven2/com/google/guava/guava/16.0/guava-16.0.jar\r\n",
        "\u001b[1m> Configuring > 3/3 projects\u001b[22m\u001b[1m > 2 KB/2,12 MB downloaded\u001b[22m\u001b[23D\u001b[1m6 KB/2,12 MB downloaded\u001b[22m\u001b[23D\u001b[1m10 KB/2,12 MB downloaded\u001b[22m\u001b[23D\u001b[1m4 KB/2,12 MB downloaded\u001b[22m\u001b[23D\u001b[1m8 KB/2,12 MB downloaded\u001b[22m\u001b[24D\u001b[1m22 KB/2,12 MB downloaded\u001b[22m\u001b[23D\u001b[1m6 KB/2,12 MB downloaded\u001b[22m\u001b[24D\u001b[1m30 KB/2,12 MB downloaded\u001b[22m\u001b[23D\u001b[1m4 KB/2,12 MB downloaded\u001b[22m\u001b[23D\u001b[1m8 KB/2,12 MB downloaded\u001b[22m\u001b[24D\u001b[1m42 KB/2,12 MB downloaded\u001b[22m\u001b[23D\u001b[1m6 KB/2,12 MB downloaded\u001b[22m\u001b[24D\u001b[1m50 KB/2,12 MB downloaded\u001b[22m\u001b[23D\u001b[1m4 KB/2,12 MB downloaded\u001b[22m\u001b[23D\u001b[1m8 KB/2,12 MB downloaded\u001b[22m\u001b[24D\u001b[1m62 KB/2,12 MB downloaded\u001b[22m\u001b[23D\u001b[1m6 KB/2,12 MB downloaded\u001b[22m\u001b[24D\u001b[1m70 KB/2,12 MB downloaded\u001b[22m\u001b[23D\u001b[1m4 KB/2,12 MB downloaded\u001b[22m\u001b[23D\u001b[1m8 KB/2,12 MB downloaded\u001b[22m\u001b[24D\u001b[1m82 KB/2,12 MB downloaded\u001b[22m\u001b[23D\u001b[1m6 KB/2,12 MB downloaded\u001b[22m\u001b[24D\u001b[1m90 KB/2,12 MB downloaded\u001b[22m\u001b[23D\u001b[1m3 KB/2,12 MB downloaded\u001b[22m\u001b[23D\u001b[1m7 KB/2,12 MB downloaded\u001b[22m\u001b[24D\u001b[1m101 KB/2,12 MB downloaded\u001b[22m\u001b[23D\u001b[1m5 KB/2,12 MB downloaded\u001b[22m\u001b[23D\u001b[1m9 KB/2,12 MB downloaded\u001b[22m\u001b[24D\u001b[1m13 KB/2,12 MB downloaded\u001b[22m\u001b[23D\u001b[1m7 KB/2,12 MB downloaded\u001b[22m\u001b[24D\u001b[1m21 KB/2,12 MB downloaded\u001b[22m\u001b[23D\u001b[1m5 KB/2,12 MB downloaded\u001b[22m\u001b[23D\u001b[1m9 KB/2,12 MB downloaded\u001b[22m\u001b[24D\u001b[1m33 KB/2,12 MB downloaded\u001b[22m\u001b[23D\u001b[1m7 KB/2,12 MB downloaded\u001b[22m\u001b[23D\u001b[1m9 KB/2,12 MB downloaded\u001b[22m\u001b[24D\u001b[1m42 KB/2,12 MB downloaded\u001b[22m\u001b[23D\u001b[1m6 KB/2,12 MB downloaded\u001b[22m\u001b[23D\u001b[1m7 KB/2,12 MB downloaded\u001b[22m\u001b[24D\u001b[1m51 KB/2,12 MB downloaded\u001b[22m\u001b[23D\u001b[1m4 KB/2,12 MB downloaded\u001b[22m\u001b[23D\u001b[1m8 KB/2,12 MB downloaded\u001b[22m\u001b[24D\u001b[1m62 KB/2,12 MB downloaded\u001b[22m\u001b[23D\u001b[1m6 KB/2,12 MB downloaded\u001b[22m\u001b[24D\u001b[1m70 KB/2,12 MB downloaded\u001b[22m\u001b[23D\u001b[1m4 KB/2,12 MB downloaded\u001b[22m\u001b[23D\u001b[1m8 KB/2,12 MB downloaded\u001b[22m\u001b[24D\u001b[1m82 KB/2,12 MB downloaded\u001b[22m\u001b[23D\u001b[1m6 KB/2,12 MB downloaded\u001b[22m\u001b[24D\u001b[1m90 KB/2,12 MB downloaded\u001b[22m\u001b[23D\u001b[1m4 KB/2,12 MB downloaded\u001b[22m\u001b[23D\u001b[1m8 KB/2,12 MB downloaded\u001b[22m\u001b[23D\u001b[1m9 KB/2,12 MB downloaded\u001b[22m"
       ]
      },
      {
       "output_type": "stream",
       "stream": "stdout",
       "text": [
        "\u001b[25D\u001b[1m203 KB/2,12 MB downloaded\u001b[22m\u001b[23D\u001b[1m7 KB/2,12 MB downloaded\u001b[22m\u001b[24D\u001b[1m11 KB/2,12 MB downloaded\u001b[22m\u001b[23D\u001b[1m5 KB/2,12 MB downloaded\u001b[22m\u001b[23D\u001b[1m9 KB/2,12 MB downloaded\u001b[22m\u001b[24D\u001b[1m23 KB/2,12 MB downloaded\u001b[22m\u001b[23D\u001b[1m7 KB/2,12 MB downloaded\u001b[22m\u001b[24D\u001b[1m31 KB/2,12 MB downloaded\u001b[22m\u001b[23D\u001b[1m5 KB/2,12 MB downloaded\u001b[22m\u001b[23D\u001b[1m9 KB/2,12 MB downloaded\u001b[22m\u001b[24D\u001b[1m43 KB/2,12 MB downloaded\u001b[22m\u001b[23D\u001b[1m7 KB/2,12 MB downloaded\u001b[22m\u001b[24D\u001b[1m51 KB/2,12 MB downloaded\u001b[22m\u001b[23D\u001b[1m5 KB/2,12 MB downloaded\u001b[22m\u001b[23D\u001b[1m9 KB/2,12 MB downloaded\u001b[22m\u001b[24D\u001b[1m63 KB/2,12 MB downloaded\u001b[22m\u001b[23D\u001b[1m5 KB/2,12 MB downloaded\u001b[22m\u001b[23D\u001b[1m9 KB/2,12 MB downloaded\u001b[22m\u001b[24D\u001b[1m73 KB/2,12 MB downloaded\u001b[22m\u001b[23D\u001b[1m7 KB/2,12 MB downloaded\u001b[22m\u001b[24D\u001b[1m81 KB/2,12 MB downloaded\u001b[22m\u001b[23D\u001b[1m5 KB/2,12 MB downloaded\u001b[22m\u001b[23D\u001b[1m6 KB/2,12 MB downloaded\u001b[22m\u001b[24D\u001b[1m90 KB/2,12 MB downloaded\u001b[22m\u001b[23D\u001b[1m4 KB/2,12 MB downloaded\u001b[22m\u001b[23D\u001b[1m8 KB/2,12 MB downloaded\u001b[22m\u001b[25D\u001b[1m302 KB/2,12 MB downloaded\u001b[22m\u001b[23D\u001b[1m6 KB/2,12 MB downloaded\u001b[22m\u001b[24D\u001b[1m10 KB/2,12 MB downloaded\u001b[22m\u001b[23D\u001b[1m4 KB/2,12 MB downloaded\u001b[22m\u001b[23D\u001b[1m8 KB/2,12 MB downloaded\u001b[22m\u001b[24D\u001b[1m22 KB/2,12 MB downloaded\u001b[22m\u001b[23D\u001b[1m6 KB/2,12 MB downloaded\u001b[22m\u001b[24D\u001b[1m30 KB/2,12 MB downloaded\u001b[22m\u001b[23D\u001b[1m4 KB/2,12 MB downloaded\u001b[22m\u001b[23D\u001b[1m8 KB/2,12 MB downloaded\u001b[22m\u001b[24D\u001b[1m42 KB/2,12 MB downloaded\u001b[22m\u001b[23D\u001b[1m6 KB/2,12 MB downloaded\u001b[22m\u001b[24D\u001b[1m50 KB/2,12 MB downloaded\u001b[22m\u001b[23D\u001b[1m4 KB/2,12 MB downloaded\u001b[22m\u001b[23D\u001b[1m8 KB/2,12 MB downloaded\u001b[22m\u001b[24D\u001b[1m62 KB/2,12 MB downloaded\u001b[22m\u001b[23D\u001b[1m6 KB/2,12 MB downloaded\u001b[22m\u001b[24D\u001b[1m70 KB/2,12 MB downloaded\u001b[22m\u001b[23D\u001b[1m4 KB/2,12 MB downloaded\u001b[22m\u001b[23D\u001b[1m8 KB/2,12 MB downloaded\u001b[22m\u001b[24D\u001b[1m82 KB/2,12 MB downloaded\u001b[22m\u001b[23D\u001b[1m6 KB/2,12 MB downloaded\u001b[22m\u001b[24D\u001b[1m90 KB/2,12 MB downloaded\u001b[22m\u001b[23D\u001b[1m4 KB/2,12 MB downloaded\u001b[22m\u001b[23D\u001b[1m8 KB/2,12 MB downloaded\u001b[22m\u001b[25D\u001b[1m402 KB/2,12 MB downloaded\u001b[22m\u001b[23D\u001b[1m6 KB/2,12 MB downloaded\u001b[22m\u001b[24D\u001b[1m10 KB/2,12 MB downloaded\u001b[22m\u001b[23D\u001b[1m4 KB/2,12 MB downloaded\u001b[22m\u001b[23D\u001b[1m8 KB/2,12 MB downloaded\u001b[22m\u001b[24D\u001b[1m22 KB/2,12 MB downloaded\u001b[22m\u001b[23D\u001b[1m4 KB/2,12 MB downloaded\u001b[22m\u001b[23D\u001b[1m8 KB/2,12 MB downloaded\u001b[22m\u001b[24D\u001b[1m32 KB/2,12 MB downloaded\u001b[22m\u001b[23D\u001b[1m6 KB/2,12 MB downloaded\u001b[22m\u001b[24D\u001b[1m40 KB/2,12 MB downloaded\u001b[22m\u001b[23D\u001b[1m4 KB/2,12 MB downloaded\u001b[22m\u001b[23D\u001b[1m8 KB/2,12 MB downloaded\u001b[22m\u001b[24D\u001b[1m52 KB/2,12 MB downloaded\u001b[22m\u001b[23D\u001b[1m6 KB/2,12 MB downloaded\u001b[22m\u001b[23D\u001b[1m7 KB/2,12 MB downloaded\u001b[22m\u001b[24D\u001b[1m61 KB/2,12 MB downloaded\u001b[22m\u001b[23D\u001b[1m5 KB/2,12 MB downloaded\u001b[22m\u001b[23D\u001b[1m9 KB/2,12 MB downloaded\u001b[22m\u001b[24D\u001b[1m73 KB/2,12 MB downloaded\u001b[22m\u001b[23D\u001b[1m7 KB/2,12 MB downloaded\u001b[22m\u001b[24D\u001b[1m81 KB/2,12 MB downloaded\u001b[22m\u001b[23D\u001b[1m5 KB/2,12 MB downloaded\u001b[22m\u001b[23D\u001b[1m9 KB/2,12 MB downloaded\u001b[22m\u001b[24D\u001b[1m93 KB/2,12 MB downloaded\u001b[22m\u001b[23D\u001b[1m7 KB/2,12 MB downloaded\u001b[22m\u001b[25D\u001b[1m501 KB/2,12 MB downloaded\u001b[22m\u001b[23D\u001b[1m5 KB/2,12 MB downloaded\u001b[22m\u001b[23D\u001b[1m9 KB/2,12 MB downloaded\u001b[22m\u001b[24D\u001b[1m13 KB/2,12 MB downloaded\u001b[22m\u001b[23D\u001b[1m7 KB/2,12 MB downloaded\u001b[22m\u001b[24D\u001b[1m21 KB/2,12 MB downloaded\u001b[22m\u001b[23D\u001b[1m5 KB/2,12 MB downloaded\u001b[22m\u001b[23D\u001b[1m9 KB/2,12 MB downloaded\u001b[22m\u001b[24D\u001b[1m32 KB/2,12 MB downloaded\u001b[22m\u001b[23D\u001b[1m6 KB/2,12 MB downloaded\u001b[22m\u001b[24D\u001b[1m40 KB/2,12 MB downloaded\u001b[22m\u001b[23D\u001b[1m4 KB/2,12 MB downloaded\u001b[22m\u001b[23D\u001b[1m8 KB/2,12 MB downloaded\u001b[22m\u001b[24D\u001b[1m52 KB/2,12 MB downloaded\u001b[22m\u001b[23D\u001b[1m6 KB/2,12 MB downloaded\u001b[22m\u001b[24D\u001b[1m60 KB/2,12 MB downloaded\u001b[22m\u001b[23D\u001b[1m4 KB/2,12 MB downloaded\u001b[22m\u001b[23D\u001b[1m8 KB/2,12 MB downloaded\u001b[22m\u001b[24D\u001b[1m72 KB/2,12 MB downloaded\u001b[22m\u001b[23D\u001b[1m6 KB/2,12 MB downloaded\u001b[22m\u001b[24D\u001b[1m80 KB/2,12 MB downloaded\u001b[22m\u001b[23D\u001b[1m4 KB/2,12 MB downloaded\u001b[22m\u001b[23D\u001b[1m8 KB/2,12 MB downloaded\u001b[22m\u001b[24D\u001b[1m92 KB/2,12 MB downloaded\u001b[22m\u001b[23D\u001b[1m6 KB/2,12 MB downloaded\u001b[22m\u001b[25D\u001b[1m600 KB/2,12 MB downloaded\u001b[22m\u001b[23D\u001b[1m4 KB/2,12 MB downloaded\u001b[22m\u001b[23D\u001b[1m8 KB/2,12 MB downloaded\u001b[22m\u001b[24D\u001b[1m12 KB/2,12 MB downloaded\u001b[22m\u001b[23D\u001b[1m6 KB/2,12 MB downloaded\u001b[22m\u001b[24D\u001b[1m20 KB/2,12 MB downloaded\u001b[22m\u001b[23D\u001b[1m4 KB/2,12 MB downloaded\u001b[22m\u001b[23D\u001b[1m8 KB/2,12 MB downloaded\u001b[22m\u001b[24D\u001b[1m31 KB/2,12 MB downloaded\u001b[22m"
       ]
      },
      {
       "output_type": "stream",
       "stream": "stdout",
       "text": [
        "\u001b[23D\u001b[1m5 KB/2,12 MB downloaded\u001b[22m\u001b[23D\u001b[1m9 KB/2,12 MB downloaded\u001b[22m\u001b[24D\u001b[1m43 KB/2,12 MB downloaded\u001b[22m\u001b[23D\u001b[1m7 KB/2,12 MB downloaded\u001b[22m\u001b[24D\u001b[1m51 KB/2,12 MB downloaded\u001b[22m\u001b[23D\u001b[1m5 KB/2,12 MB downloaded\u001b[22m\u001b[23D\u001b[1m9 KB/2,12 MB downloaded\u001b[22m\u001b[24D\u001b[1m63 KB/2,12 MB downloaded\u001b[22m\u001b[23D\u001b[1m7 KB/2,12 MB downloaded\u001b[22m\u001b[24D\u001b[1m70 KB/2,12 MB downloaded\u001b[22m\u001b[23D\u001b[1m4 KB/2,12 MB downloaded\u001b[22m\u001b[23D\u001b[1m8 KB/2,12 MB downloaded\u001b[22m\u001b[24D\u001b[1m82 KB/2,12 MB downloaded\u001b[22m\u001b[23D\u001b[1m6 KB/2,12 MB downloaded\u001b[22m\u001b[24D\u001b[1m90 KB/2,12 MB downloaded\u001b[22m\u001b[23D\u001b[1m4 KB/2,12 MB downloaded\u001b[22m\u001b[23D\u001b[1m8 KB/2,12 MB downloaded\u001b[22m\u001b[25D\u001b[1m702 KB/2,12 MB downloaded\u001b[22m\u001b[23D\u001b[1m6 KB/2,12 MB downloaded\u001b[22m\u001b[24D\u001b[1m10 KB/2,12 MB downloaded\u001b[22m\u001b[23D\u001b[1m4 KB/2,12 MB downloaded\u001b[22m\u001b[23D\u001b[1m6 KB/2,12 MB downloaded\u001b[22m\u001b[24D\u001b[1m20 KB/2,12 MB downloaded\u001b[22m\u001b[23D\u001b[1m4 KB/2,12 MB downloaded\u001b[22m\u001b[23D\u001b[1m8 KB/2,12 MB downloaded\u001b[22m\u001b[24D\u001b[1m32 KB/2,12 MB downloaded\u001b[22m\u001b[23D\u001b[1m6 KB/2,12 MB downloaded\u001b[22m\u001b[24D\u001b[1m40 KB/2,12 MB downloaded\u001b[22m\u001b[23D\u001b[1m1 KB/2,12 MB downloaded\u001b[22m\u001b[23D\u001b[1m5 KB/2,12 MB downloaded\u001b[22m\u001b[23D\u001b[1m9 KB/2,12 MB downloaded\u001b[22m\u001b[24D\u001b[1m53 KB/2,12 MB downloaded\u001b[22m\u001b[23D\u001b[1m7 KB/2,12 MB downloaded\u001b[22m\u001b[24D\u001b[1m61 KB/2,12 MB downloaded\u001b[22m\u001b[23D\u001b[1m5 KB/2,12 MB downloaded\u001b[22m\u001b[23D\u001b[1m9 KB/2,12 MB downloaded\u001b[22m\u001b[24D\u001b[1m73 KB/2,12 MB downloaded\u001b[22m\u001b[23D\u001b[1m7 KB/2,12 MB downloaded\u001b[22m\u001b[24D\u001b[1m81 KB/2,12 MB downloaded\u001b[22m\u001b[23D\u001b[1m2 KB/2,12 MB downloaded\u001b[22m\u001b[23D\u001b[1m6 KB/2,12 MB downloaded\u001b[22m\u001b[24D\u001b[1m90 KB/2,12 MB downloaded\u001b[22m\u001b[23D\u001b[1m4 KB/2,12 MB downloaded\u001b[22m\u001b[23D\u001b[1m8 KB/2,12 MB downloaded\u001b[22m\u001b[25D\u001b[1m802 KB/2,12 MB downloaded\u001b[22m\u001b[23D\u001b[1m6 KB/2,12 MB downloaded\u001b[22m\u001b[24D\u001b[1m10 KB/2,12 MB downloaded\u001b[22m\u001b[23D\u001b[1m4 KB/2,12 MB downloaded\u001b[22m\u001b[23D\u001b[1m8 KB/2,12 MB downloaded\u001b[22m\u001b[24D\u001b[1m22 KB/2,12 MB downloaded\u001b[22m\u001b[23D\u001b[1m6 KB/2,12 MB downloaded\u001b[22m\u001b[24D\u001b[1m30 KB/2,12 MB downloaded\u001b[22m\u001b[23D\u001b[1m4 KB/2,12 MB downloaded\u001b[22m\u001b[23D\u001b[1m8 KB/2,12 MB downloaded\u001b[22m\u001b[24D\u001b[1m42 KB/2,12 MB downloaded\u001b[22m\u001b[23D\u001b[1m6 KB/2,12 MB downloaded\u001b[22m\u001b[24D\u001b[1m50 KB/2,12 MB downloaded\u001b[22m\u001b[23D\u001b[1m4 KB/2,12 MB downloaded\u001b[22m\u001b[23D\u001b[1m8 KB/2,12 MB downloaded\u001b[22m\u001b[24D\u001b[1m62 KB/2,12 MB downloaded\u001b[22m\u001b[23D\u001b[1m5 KB/2,12 MB downloaded\u001b[22m\u001b[23D\u001b[1m7 KB/2,12 MB downloaded\u001b[22m\u001b[24D\u001b[1m71 KB/2,12 MB downloaded\u001b[22m\u001b[23D\u001b[1m5 KB/2,12 MB downloaded\u001b[22m\u001b[23D\u001b[1m9 KB/2,12 MB downloaded\u001b[22m\u001b[24D\u001b[1m83 KB/2,12 MB downloaded\u001b[22m\u001b[23D\u001b[1m7 KB/2,12 MB downloaded\u001b[22m\u001b[24D\u001b[1m91 KB/2,12 MB downloaded\u001b[22m\u001b[23D\u001b[1m5 KB/2,12 MB downloaded\u001b[22m\u001b[23D\u001b[1m9 KB/2,12 MB downloaded\u001b[22m\u001b[25D\u001b[1m903 KB/2,12 MB downloaded\u001b[22m\u001b[23D\u001b[1m7 KB/2,12 MB downloaded\u001b[22m\u001b[24D\u001b[1m11 KB/2,12 MB downloaded\u001b[22m\u001b[23D\u001b[1m5 KB/2,12 MB downloaded\u001b[22m\u001b[23D\u001b[1m9 KB/2,12 MB downloaded\u001b[22m\u001b[24D\u001b[1m23 KB/2,12 MB downloaded\u001b[22m\u001b[23D\u001b[1m7 KB/2,12 MB downloaded\u001b[22m\u001b[24D\u001b[1m31 KB/2,12 MB downloaded\u001b[22m\u001b[23D\u001b[1m5 KB/2,12 MB downloaded\u001b[22m\u001b[23D\u001b[1m6 KB/2,12 MB downloaded\u001b[22m\u001b[23D\u001b[1m8 KB/2,12 MB downloaded\u001b[22m"
       ]
      },
      {
       "output_type": "stream",
       "stream": "stdout",
       "text": [
        "\u001b[24D\u001b[1m42 KB/2,12 MB downloaded\u001b[22m\u001b[23D\u001b[1m6 KB/2,12 MB downloaded\u001b[22m\u001b[24D\u001b[1m50 KB/2,12 MB downloaded\u001b[22m\u001b[23D\u001b[1m4 KB/2,12 MB downloaded\u001b[22m\u001b[23D\u001b[1m8 KB/2,12 MB downloaded\u001b[22m\u001b[24D\u001b[1m62 KB/2,12 MB downloaded\u001b[22m\u001b[23D\u001b[1m6 KB/2,12 MB downloaded\u001b[22m\u001b[24D\u001b[1m70 KB/2,12 MB downloaded\u001b[22m\u001b[23D\u001b[1m4 KB/2,12 MB downloaded\u001b[22m\u001b[23D\u001b[1m8 KB/2,12 MB downloaded\u001b[22m\u001b[24D\u001b[1m82 KB/2,12 MB downloaded\u001b[22m\u001b[23D\u001b[1m6 KB/2,12 MB downloaded\u001b[22m\u001b[23D\u001b[1m8 KB/2,12 MB downloaded\u001b[22m\u001b[23D\u001b[1m9 KB/2,12 MB downloaded\u001b[22m\u001b[24D\u001b[1m93 KB/2,12 MB downloaded\u001b[22m\u001b[23D\u001b[1m7 KB/2,12 MB downloaded\u001b[22m\u001b[25D\u001b[1m1001 KB/2,12 MB downloaded\u001b[22m\u001b[23D\u001b[1m5 KB/2,12 MB downloaded\u001b[22m\u001b[23D\u001b[1m9 KB/2,12 MB downloaded\u001b[22m\u001b[24D\u001b[1m13 KB/2,12 MB downloaded\u001b[22m\u001b[23D\u001b[1m7 KB/2,12 MB downloaded\u001b[22m\u001b[24D\u001b[1m21 KB/2,12 MB downloaded\u001b[22m\u001b[25D\u001b[1m,00 MB/2,12 MB downloaded\u001b[22m\u001b[23D\u001b[1m1 MB/2,12 MB downloaded\u001b[22m\u001b[23D\u001b[1m2 MB/2,12 MB downloaded\u001b[22m\u001b[23D\u001b[1m3 MB/2,12 MB downloaded\u001b[22m\u001b[23D\u001b[1m4 MB/2,12 MB downloaded\u001b[22m\u001b[23D\u001b[1m5 MB/2,12 MB downloaded\u001b[22m\u001b[23D\u001b[1m6 MB/2,12 MB downloaded\u001b[22m\u001b[23D\u001b[1m7 MB/2,12 MB downloaded\u001b[22m\u001b[23D\u001b[1m8 MB/2,12 MB downloaded\u001b[22m\u001b[23D\u001b[1m9 MB/2,12 MB downloaded\u001b[22m\u001b[24D\u001b[1m10 MB/2,12 MB downloaded\u001b[22m\u001b[23D\u001b[1m1 MB/2,12 MB downloaded\u001b[22m\u001b[23D\u001b[1m2 MB/2,12 MB downloaded\u001b[22m\u001b[23D\u001b[1m3 MB/2,12 MB downloaded\u001b[22m\u001b[23D\u001b[1m4 MB/2,12 MB downloaded\u001b[22m\u001b[23D\u001b[1m5 MB/2,12 MB downloaded\u001b[22m\u001b[23D\u001b[1m6 MB/2,12 MB downloaded\u001b[22m\u001b[23D\u001b[1m7 MB/2,12 MB downloaded\u001b[22m\u001b[23D\u001b[1m8 MB/2,12 MB downloaded\u001b[22m\u001b[23D\u001b[1m9 MB/2,12 MB downloaded\u001b[22m\u001b[24D\u001b[1m20 MB/2,12 MB downloaded\u001b[22m\u001b[23D\u001b[1m1 MB/2,12 MB downloaded\u001b[22m\u001b[23D\u001b[1m2 MB/2,12 MB downloaded\u001b[22m\u001b[23D\u001b[1m3 MB/2,12 MB downloaded\u001b[22m\u001b[23D\u001b[1m4 MB/2,12 MB downloaded\u001b[22m\u001b[23D\u001b[1m5 MB/2,12 MB downloaded\u001b[22m\u001b[23D\u001b[1m6 MB/2,12 MB downloaded\u001b[22m\u001b[23D\u001b[1m7 MB/2,12 MB downloaded\u001b[22m\u001b[23D\u001b[1m8 MB/2,12 MB downloaded\u001b[22m\u001b[23D\u001b[1m9 MB/2,12 MB downloaded\u001b[22m\u001b[24D\u001b[1m30 MB/2,12 MB downloaded\u001b[22m\u001b[23D\u001b[1m1 MB/2,12 MB downloaded\u001b[22m\u001b[23D\u001b[1m2 MB/2,12 MB downloaded\u001b[22m\u001b[23D\u001b[1m3 MB/2,12 MB downloaded\u001b[22m\u001b[23D\u001b[1m4 MB/2,12 MB downloaded\u001b[22m\u001b[23D\u001b[1m5 MB/2,12 MB downloaded\u001b[22m\u001b[23D\u001b[1m6 MB/2,12 MB downloaded\u001b[22m\u001b[23D\u001b[1m7 MB/2,12 MB downloaded\u001b[22m\u001b[23D\u001b[1m8 MB/2,12 MB downloaded\u001b[22m\u001b[23D\u001b[1m9 MB/2,12 MB downloaded\u001b[22m\u001b[24D\u001b[1m40 MB/2,12 MB downloaded\u001b[22m\u001b[23D\u001b[1m1 MB/2,12 MB downloaded\u001b[22m\u001b[23D\u001b[1m2 MB/2,12 MB downloaded\u001b[22m\u001b[23D\u001b[1m3 MB/2,12 MB downloaded\u001b[22m\u001b[23D\u001b[1m4 MB/2,12 MB downloaded\u001b[22m\u001b[23D\u001b[1m5 MB/2,12 MB downloaded\u001b[22m"
       ]
      },
      {
       "output_type": "stream",
       "stream": "stdout",
       "text": [
        "\u001b[23D\u001b[1m6 MB/2,12 MB downloaded\u001b[22m\u001b[23D\u001b[1m7 MB/2,12 MB downloaded\u001b[22m\u001b[23D\u001b[1m8 MB/2,12 MB downloaded\u001b[22m\u001b[23D\u001b[1m9 MB/2,12 MB downloaded\u001b[22m\u001b[24D\u001b[1m50 MB/2,12 MB downloaded\u001b[22m\u001b[23D\u001b[1m1 MB/2,12 MB downloaded\u001b[22m\u001b[23D\u001b[1m2 MB/2,12 MB downloaded\u001b[22m\u001b[23D\u001b[1m3 MB/2,12 MB downloaded\u001b[22m\u001b[23D\u001b[1m4 MB/2,12 MB downloaded\u001b[22m\u001b[23D\u001b[1m5 MB/2,12 MB downloaded\u001b[22m\u001b[23D\u001b[1m6 MB/2,12 MB downloaded\u001b[22m\u001b[23D\u001b[1m7 MB/2,12 MB downloaded\u001b[22m\u001b[23D\u001b[1m8 MB/2,12 MB downloaded\u001b[22m\u001b[23D\u001b[1m9 MB/2,12 MB downloaded\u001b[22m\u001b[24D\u001b[1m60 MB/2,12 MB downloaded\u001b[22m\u001b[23D\u001b[1m1 MB/2,12 MB downloaded\u001b[22m\u001b[23D\u001b[1m2 MB/2,12 MB downloaded\u001b[22m\u001b[23D\u001b[1m3 MB/2,12 MB downloaded\u001b[22m\u001b[23D\u001b[1m4 MB/2,12 MB downloaded\u001b[22m\u001b[23D\u001b[1m5 MB/2,12 MB downloaded\u001b[22m\u001b[23D\u001b[1m6 MB/2,12 MB downloaded\u001b[22m\u001b[23D\u001b[1m7 MB/2,12 MB downloaded\u001b[22m\u001b[23D\u001b[1m8 MB/2,12 MB downloaded\u001b[22m\u001b[23D\u001b[1m9 MB/2,12 MB downloaded\u001b[22m\u001b[24D\u001b[1m70 MB/2,12 MB downloaded\u001b[22m\u001b[23D\u001b[1m1 MB/2,12 MB downloaded\u001b[22m\u001b[23D\u001b[1m2 MB/2,12 MB downloaded\u001b[22m\u001b[23D\u001b[1m3 MB/2,12 MB downloaded\u001b[22m\u001b[23D\u001b[1m4 MB/2,12 MB downloaded\u001b[22m\u001b[23D\u001b[1m5 MB/2,12 MB downloaded\u001b[22m\u001b[23D\u001b[1m6 MB/2,12 MB downloaded\u001b[22m\u001b[23D\u001b[1m7 MB/2,12 MB downloaded\u001b[22m\u001b[23D\u001b[1m8 MB/2,12 MB downloaded\u001b[22m\u001b[23D\u001b[1m9 MB/2,12 MB downloaded\u001b[22m\u001b[24D\u001b[1m80 MB/2,12 MB downloaded\u001b[22m\u001b[23D\u001b[1m1 MB/2,12 MB downloaded\u001b[22m\u001b[23D\u001b[1m2 MB/2,12 MB downloaded\u001b[22m\u001b[23D\u001b[1m3 MB/2,12 MB downloaded\u001b[22m\u001b[23D\u001b[1m4 MB/2,12 MB downloaded\u001b[22m\u001b[23D\u001b[1m5 MB/2,12 MB downloaded\u001b[22m\u001b[23D\u001b[1m6 MB/2,12 MB downloaded\u001b[22m"
       ]
      },
      {
       "output_type": "stream",
       "stream": "stdout",
       "text": [
        "\u001b[23D\u001b[1m7 MB/2,12 MB downloaded\u001b[22m\u001b[23D\u001b[1m8 MB/2,12 MB downloaded\u001b[22m\u001b[23D\u001b[1m9 MB/2,12 MB downloaded\u001b[22m\u001b[24D\u001b[1m90 MB/2,12 MB downloaded\u001b[22m\u001b[23D\u001b[1m1 MB/2,12 MB downloaded\u001b[22m\u001b[23D\u001b[1m2 MB/2,12 MB downloaded\u001b[22m\u001b[23D\u001b[1m3 MB/2,12 MB downloaded\u001b[22m\u001b[23D\u001b[1m4 MB/2,12 MB downloaded\u001b[22m\u001b[23D\u001b[1m5 MB/2,12 MB downloaded\u001b[22m\u001b[23D\u001b[1m6 MB/2,12 MB downloaded\u001b[22m\u001b[23D\u001b[1m7 MB/2,12 MB downloaded\u001b[22m\u001b[23D\u001b[1m8 MB/2,12 MB downloaded\u001b[22m\u001b[23D\u001b[1m9 MB/2,12 MB downloaded\u001b[22m\u001b[26D\u001b[1m2,00 MB/2,12 MB downloaded\u001b[22m\u001b[23D\u001b[1m1 MB/2,12 MB downloaded\u001b[22m\u001b[23D\u001b[1m2 MB/2,12 MB downloaded\u001b[22m\u001b[23D\u001b[1m3 MB/2,12 MB downloaded\u001b[22m\u001b[23D\u001b[1m4 MB/2,12 MB downloaded\u001b[22m\u001b[23D\u001b[1m5 MB/2,12 MB downloaded\u001b[22m\u001b[23D\u001b[1m6 MB/2,12 MB downloaded\u001b[22m\u001b[23D\u001b[1m7 MB/2,12 MB downloaded\u001b[22m\u001b[23D\u001b[1m8 MB/2,12 MB downloaded\u001b[22m\u001b[23D\u001b[1m9 MB/2,12 MB downloaded\u001b[22m\u001b[24D\u001b[1m10 MB/2,12 MB downloaded\u001b[22m\u001b[23D\u001b[1m1 MB/2,12 MB downloaded\u001b[22m\u001b[23D\u001b[1m2 MB/2,12 MB downloaded\u001b[22m\u001b[29D\u001b[0K\u001b[28D\u001b[0K\u001b[1A\u001b[81C\r\n",
        "\u001b[1m> Configuring > 3/3 projects\u001b[22m"
       ]
      },
      {
       "output_type": "stream",
       "stream": "stdout",
       "text": [
        "\u001b[28D\u001b[0KDownload http://repo1.maven.org/maven2/javax/annotation/javax.annotation-api/1.2/javax.annotation-api-1.2.jar\r\n",
        "\u001b[1m> Configuring > 3/3 projects\u001b[22m\u001b[1m > 4 KB/25 KB downloaded\u001b[22m\u001b[21D\u001b[1m7 KB/25 KB downloaded\u001b[22m\u001b[21D\u001b[1m11 KB/25 KB downloaded\u001b[22m\u001b[21D\u001b[1m5 KB/25 KB downloaded\u001b[22m\u001b[21D\u001b[1m9 KB/25 KB downloaded\u001b[22m\u001b[22D\u001b[1m23 KB/25 KB downloaded\u001b[22m\u001b[21D\u001b[1m5 KB/25 KB downloaded\u001b[22m\u001b[25D\u001b[0K\u001b[28D\u001b[0K\u001b[1A\u001b[109C\r\n",
        "\u001b[1m> Configuring > 3/3 projects\u001b[22m\u001b[28D\u001b[0KDownload http://repo1.maven.org/maven2/com/google/code/findbugs/jsr305/1.3.9/jsr305-1.3.9.jar\r\n",
        "\u001b[1m> Configuring > 3/3 projects\u001b[22m\u001b[1m > 2 KB/32 KB downloaded\u001b[22m\u001b[21D\u001b[1m6 KB/32 KB downloaded\u001b[22m\u001b[21D\u001b[1m10 KB/32 KB downloaded\u001b[22m\u001b[21D\u001b[1m4 KB/32 KB downloaded\u001b[22m\u001b[21D\u001b[1m8 KB/32 KB downloaded\u001b[22m\u001b[22D\u001b[1m22 KB/32 KB downloaded\u001b[22m\u001b[21D\u001b[1m6 KB/32 KB downloaded\u001b[22m\u001b[22D\u001b[1m30 KB/32 KB downloaded\u001b[22m\u001b[21D\u001b[1m2 KB/32 KB downloaded\u001b[22m\u001b[25D\u001b[0K\u001b[28D\u001b[0K\u001b[1A\u001b[93C\r\n",
        "\u001b[1m> Configuring > 3/3 projects\u001b[22m"
       ]
      },
      {
       "output_type": "stream",
       "stream": "stdout",
       "text": [
        "\u001b[28D\u001b[0KDownload http://repo1.maven.org/maven2/com/jakewharton/espresso/espresso-runner/1.1-r2/espresso-runner-1.1-r2.aar\r\n",
        "\u001b[1m> Configuring > 3/3 projects\u001b[22m\u001b[1m > 4 KB/38 KB downloaded\u001b[22m\u001b[21D\u001b[1m7 KB/38 KB downloaded\u001b[22m\u001b[21D\u001b[1m11 KB/38 KB downloaded\u001b[22m\u001b[21D\u001b[1m5 KB/38 KB downloaded\u001b[22m\u001b[21D\u001b[1m9 KB/38 KB downloaded\u001b[22m\u001b[22D\u001b[1m23 KB/38 KB downloaded\u001b[22m\u001b[21D\u001b[1m7 KB/38 KB downloaded\u001b[22m\u001b[22D\u001b[1m31 KB/38 KB downloaded\u001b[22m\u001b[21D\u001b[1m5 KB/38 KB downloaded\u001b[22m\u001b[21D\u001b[1m8 KB/38 KB downloaded\u001b[22m\u001b[25D\u001b[0K\u001b[28D\u001b[0K\u001b[1A\u001b[113C\r\n",
        "\u001b[1m> Configuring > 3/3 projects\u001b[22m\u001b[28D\u001b[0KDownload http://repo1.maven.org/maven2/com/jakewharton/espresso/espresso-runner-runtime/1.1-r2/espresso-runner-runtime-1.1-r2.aar\r\n",
        "\u001b[1m> Configuring > 3/3 projects\u001b[22m\u001b[1m > 1 KB/1 KB downloaded\u001b[22m\u001b[23D\u001b[0K\u001b[28D\u001b[0K\u001b[1A\u001b[129C\r\n",
        "\u001b[1m> Configuring > 3/3 projects\u001b[22m"
       ]
      },
      {
       "output_type": "stream",
       "stream": "stdout",
       "text": [
        "\u001b[28D\u001b[0KDownload http://repo1.maven.org/maven2/org/hamcrest/hamcrest-core/1.1/hamcrest-core-1.1.jar\r\n",
        "\u001b[1m> Configuring > 3/3 projects\u001b[22m\u001b[1m > 4 KB/74 KB downloaded\u001b[22m\u001b[21D\u001b[1m7 KB/74 KB downloaded\u001b[22m\u001b[21D\u001b[1m11 KB/74 KB downloaded\u001b[22m\u001b[21D\u001b[1m5 KB/74 KB downloaded\u001b[22m\u001b[21D\u001b[1m9 KB/74 KB downloaded\u001b[22m\u001b[22D\u001b[1m23 KB/74 KB downloaded\u001b[22m\u001b[21D\u001b[1m7 KB/74 KB downloaded\u001b[22m\u001b[22D\u001b[1m31 KB/74 KB downloaded\u001b[22m\u001b[21D\u001b[1m5 KB/74 KB downloaded\u001b[22m\u001b[21D\u001b[1m9 KB/74 KB downloaded\u001b[22m\u001b[22D\u001b[1m43 KB/74 KB downloaded\u001b[22m\u001b[21D\u001b[1m7 KB/74 KB downloaded\u001b[22m\u001b[22D\u001b[1m51 KB/74 KB downloaded\u001b[22m\u001b[21D\u001b[1m5 KB/74 KB downloaded\u001b[22m\u001b[21D\u001b[1m9 KB/74 KB downloaded\u001b[22m\u001b[22D\u001b[1m63 KB/74 KB downloaded\u001b[22m\u001b[21D\u001b[1m7 KB/74 KB downloaded\u001b[22m\u001b[22D\u001b[1m71 KB/74 KB downloaded\u001b[22m\u001b[21D\u001b[1m4 KB/74 KB downloaded\u001b[22m\u001b[25D\u001b[0K\u001b[28D\u001b[0K\u001b[1A\u001b[91C\r\n",
        "\u001b[1m> Configuring > 3/3 projects\u001b[22m"
       ]
      },
      {
       "output_type": "stream",
       "stream": "stdout",
       "text": [
        "\u001b[28D\u001b[0KDownload http://repo1.maven.org/maven2/org/hamcrest/hamcrest-integration/1.1/hamcrest-integration-1.1.jar\r\n",
        "\u001b[1m> Configuring > 3/3 projects\u001b[22m\u001b[1m > 4 KB/14 KB downloaded\u001b[22m\u001b[21D\u001b[1m7 KB/14 KB downloaded\u001b[22m\u001b[21D\u001b[1m11 KB/14 KB downloaded\u001b[22m\u001b[21D\u001b[1m4 KB/14 KB downloaded\u001b[22m\u001b[25D\u001b[0K\u001b[28D\u001b[0K\u001b[1A\u001b[105C\r\n",
        "\u001b[1m> Configuring > 3/3 projects\u001b[22m\u001b[28D\u001b[0KDownload http://repo1.maven.org/maven2/org/hamcrest/hamcrest-library/1.1/hamcrest-library-1.1.jar\r\n",
        "\u001b[1m> Configuring > 3/3 projects\u001b[22m\u001b[1m > 4 KB/108 KB downloaded\u001b[22m\u001b[22D\u001b[1m8 KB/108 KB downloaded\u001b[22m\u001b[22D\u001b[1m12 KB/108 KB downloaded\u001b[22m\u001b[22D\u001b[1m6 KB/108 KB downloaded\u001b[22m\u001b[23D\u001b[1m20 KB/108 KB downloaded\u001b[22m\u001b[22D\u001b[1m4 KB/108 KB downloaded\u001b[22m\u001b[22D\u001b[1m8 KB/108 KB downloaded\u001b[22m\u001b[23D\u001b[1m32 KB/108 KB downloaded\u001b[22m\u001b[22D\u001b[1m6 KB/108 KB downloaded\u001b[22m\u001b[23D\u001b[1m40 KB/108 KB downloaded\u001b[22m\u001b[22D\u001b[1m4 KB/108 KB downloaded\u001b[22m\u001b[22D\u001b[1m8 KB/108 KB downloaded\u001b[22m\u001b[23D\u001b[1m52 KB/108 KB downloaded\u001b[22m\u001b[22D\u001b[1m6 KB/108 KB downloaded\u001b[22m\u001b[23D\u001b[1m60 KB/108 KB downloaded\u001b[22m\u001b[22D\u001b[1m4 KB/108 KB downloaded\u001b[22m\u001b[22D\u001b[1m8 KB/108 KB downloaded\u001b[22m\u001b[23D\u001b[1m72 KB/108 KB downloaded\u001b[22m\u001b[22D\u001b[1m6 KB/108 KB downloaded\u001b[22m\u001b[23D\u001b[1m80 KB/108 KB downloaded\u001b[22m\u001b[22D\u001b[1m4 KB/108 KB downloaded\u001b[22m\u001b[22D\u001b[1m8 KB/108 KB downloaded\u001b[22m\u001b[23D\u001b[1m92 KB/108 KB downloaded\u001b[22m\u001b[22D\u001b[1m6 KB/108 KB downloaded\u001b[22m\u001b[23D\u001b[1m100 KB/108 KB downloaded\u001b[22m\u001b[22D\u001b[1m4 KB/108 KB downloaded\u001b[22m\u001b[22D\u001b[1m8 KB/108 KB downloaded\u001b[22m\u001b[27D\u001b[0K\u001b[28D\u001b[0K\u001b[1A\u001b[97C\r\n",
        "\u001b[1m> Configuring > 3/3 projects\u001b[22m"
       ]
      },
      {
       "output_type": "stream",
       "stream": "stdout",
       "text": [
        "\u001b[28D\u001b[0KDownload http://repo1.maven.org/maven2/com/jakewharton/espresso/espresso/1.1-r2/espresso-1.1-r2.aar\r\n",
        "\u001b[1m> Configuring > 3/3 projects\u001b[22m\u001b[1m > 4 KB/245 KB downloaded\u001b[22m\u001b[22D\u001b[1m7 KB/245 KB downloaded\u001b[22m\u001b[22D\u001b[1m11 KB/245 KB downloaded\u001b[22m\u001b[22D\u001b[1m5 KB/245 KB downloaded\u001b[22m\u001b[22D\u001b[1m9 KB/245 KB downloaded\u001b[22m\u001b[23D\u001b[1m23 KB/245 KB downloaded\u001b[22m\u001b[22D\u001b[1m7 KB/245 KB downloaded\u001b[22m\u001b[23D\u001b[1m31 KB/245 KB downloaded\u001b[22m\u001b[22D\u001b[1m5 KB/245 KB downloaded\u001b[22m\u001b[22D\u001b[1m9 KB/245 KB downloaded\u001b[22m\u001b[23D\u001b[1m43 KB/245 KB downloaded\u001b[22m\u001b[22D\u001b[1m7 KB/245 KB downloaded\u001b[22m\u001b[23D\u001b[1m51 KB/245 KB downloaded\u001b[22m\u001b[22D\u001b[1m5 KB/245 KB downloaded\u001b[22m\u001b[22D\u001b[1m9 KB/245 KB downloaded\u001b[22m\u001b[23D\u001b[1m63 KB/245 KB downloaded\u001b[22m\u001b[22D\u001b[1m7 KB/245 KB downloaded\u001b[22m\u001b[23D\u001b[1m71 KB/245 KB downloaded\u001b[22m\u001b[22D\u001b[1m5 KB/245 KB downloaded\u001b[22m\u001b[22D\u001b[1m9 KB/245 KB downloaded\u001b[22m\u001b[23D\u001b[1m83 KB/245 KB downloaded\u001b[22m\u001b[22D\u001b[1m7 KB/245 KB downloaded\u001b[22m\u001b[23D\u001b[1m91 KB/245 KB downloaded\u001b[22m\u001b[22D\u001b[1m5 KB/245 KB downloaded\u001b[22m\u001b[22D\u001b[1m9 KB/245 KB downloaded\u001b[22m\u001b[23D\u001b[1m103 KB/245 KB downloaded\u001b[22m\u001b[22D\u001b[1m7 KB/245 KB downloaded\u001b[22m\u001b[23D\u001b[1m11 KB/245 KB downloaded\u001b[22m\u001b[22D\u001b[1m5 KB/245 KB downloaded\u001b[22m\u001b[22D\u001b[1m9 KB/245 KB downloaded\u001b[22m\u001b[23D\u001b[1m23 KB/245 KB downloaded\u001b[22m\u001b[22D\u001b[1m7 KB/245 KB downloaded\u001b[22m\u001b[23D\u001b[1m31 KB/245 KB downloaded\u001b[22m\u001b[22D\u001b[1m5 KB/245 KB downloaded\u001b[22m\u001b[22D\u001b[1m9 KB/245 KB downloaded\u001b[22m\u001b[23D\u001b[1m43 KB/245 KB downloaded\u001b[22m\u001b[22D\u001b[1m7 KB/245 KB downloaded\u001b[22m\u001b[23D\u001b[1m51 KB/245 KB downloaded\u001b[22m\u001b[22D\u001b[1m5 KB/245 KB downloaded\u001b[22m\u001b[22D\u001b[1m9 KB/245 KB downloaded\u001b[22m\u001b[23D\u001b[1m63 KB/245 KB downloaded\u001b[22m\u001b[22D\u001b[1m7 KB/245 KB downloaded\u001b[22m\u001b[23D\u001b[1m71 KB/245 KB downloaded\u001b[22m\u001b[22D\u001b[1m5 KB/245 KB downloaded\u001b[22m\u001b[22D\u001b[1m9 KB/245 KB downloaded\u001b[22m\u001b[23D\u001b[1m83 KB/245 KB downloaded\u001b[22m\u001b[22D\u001b[1m7 KB/245 KB downloaded\u001b[22m\u001b[23D\u001b[1m91 KB/245 KB downloaded\u001b[22m\u001b[22D\u001b[1m5 KB/245 KB downloaded\u001b[22m\u001b[22D\u001b[1m9 KB/245 KB downloaded\u001b[22m\u001b[24D\u001b[1m203 KB/245 KB downloaded\u001b[22m\u001b[22D\u001b[1m7 KB/245 KB downloaded\u001b[22m\u001b[23D\u001b[1m11 KB/245 KB downloaded\u001b[22m\u001b[22D\u001b[1m5 KB/245 KB downloaded\u001b[22m\u001b[22D\u001b[1m9 KB/245 KB downloaded\u001b[22m\u001b[23D\u001b[1m23 KB/245 KB downloaded\u001b[22m\u001b[22D\u001b[1m7 KB/245 KB downloaded\u001b[22m\u001b[23D\u001b[1m31 KB/245 KB downloaded\u001b[22m\u001b[22D\u001b[1m5 KB/245 KB downloaded\u001b[22m\u001b[22D\u001b[1m9 KB/245 KB downloaded\u001b[22m\u001b[23D\u001b[1m43 KB/245 KB downloaded\u001b[22m\u001b[22D\u001b[1m5 KB/245 KB downloaded\u001b[22m\u001b[27D\u001b[0K\u001b[28D\u001b[0K\u001b[1A\u001b[99C\r\n",
        "\u001b[1m> Configuring > 3/3 projects\u001b[22m"
       ]
      },
      {
       "output_type": "stream",
       "stream": "stdout",
       "text": [
        "\u001b[15D\u001b[0K\u001b[13D\u001b[0K\u001b[1m> Building 0%\u001b[22m\u001b[1m > :app:compileDebugNdk\u001b[22m"
       ]
      },
      {
       "output_type": "stream",
       "stream": "stdout",
       "text": [
        "\u001b[23D\u001b[0K\u001b[13D\u001b[0K:app:compileDebugNdk\r\n",
        "\u001b[1m> Building 0%\u001b[22m\u001b[1m > :app:preBuild\u001b[22m\u001b[16D\u001b[0K\u001b[13D\u001b[0K:app:preBuild\r\n",
        "\u001b[1m> Building 0%\u001b[22m\u001b[2D\u001b[1m1%\u001b[22m\u001b[1m > :app:preDebugBuild\u001b[22m\u001b[21D\u001b[0K\u001b[13D\u001b[0K:app:preDebugBuild\r\n",
        "\u001b[1m> Building 1%\u001b[22m\u001b[2D\u001b[1m2%\u001b[22m\u001b[1m > :app:checkDebugManifest\u001b[22m\u001b[26D\u001b[0K\u001b[13D\u001b[0K:app:checkDebugManifest\r\n",
        "\u001b[1m> Building 2%\u001b[22m\u001b[2D\u001b[1m3%\u001b[22m\u001b[1m > :app:preReleaseBuild\u001b[22m\u001b[23D\u001b[0K\u001b[13D\u001b[0K:app:preReleaseBuild\r\n",
        "\u001b[1m> Building 3%\u001b[22m\u001b[2D\u001b[1m4%\u001b[22m\u001b[1m > :mytrackslib:compileLint\u001b[22m\u001b[27D\u001b[0K\u001b[13D\u001b[0K:mytrackslib:compileLint\r\n",
        "\u001b[1m> Building 4%\u001b[22m\u001b[1m > :mytrackslib:copyReleaseLint\u001b[22m\u001b[31D\u001b[0K\u001b[13D\u001b[0K:mytrackslib:copyReleaseLint \r\n",
        "\u001b[1m> Building 4%\u001b[22m\u001b[13D\u001b[0K\u001b[1A\u001b[29C\u001b[33mUP-TO-DATE\u001b[39m\r\n",
        "\u001b[1m> Building 4%\u001b[22m\u001b[13D\u001b[0K\u001b[1A\u001b[39C\r\n",
        "\u001b[1m> Building 4%\u001b[22m\u001b[2D\u001b[1m5%\u001b[22m\u001b[1m > :mytrackslib:mergeReleaseProguardFiles\u001b[22m"
       ]
      },
      {
       "output_type": "stream",
       "stream": "stdout",
       "text": [
        "\u001b[41D\u001b[0K\u001b[13D\u001b[0K:mytrackslib:mergeReleaseProguardFiles\r\n",
        "\u001b[1m> Building 5%\u001b[22m\u001b[2D\u001b[1m6%\u001b[22m\u001b[1m > :mytrackslib:packageReleaseAidl\u001b[22m\u001b[34D\u001b[0K\u001b[13D\u001b[0K:mytrackslib:packageReleaseAidl\r\n",
        "\u001b[1m> Building 6%\u001b[22m\u001b[2D\u001b[1m7%\u001b[22m\u001b[1m > :mytrackslib:preBuild\u001b[22m\u001b[24D\u001b[0K\u001b[13D\u001b[0K:mytrackslib:preBuild\r\n",
        "\u001b[1m> Building 7%\u001b[22m\u001b[2D\u001b[1m8%\u001b[22m\u001b[1m > :mytrackslib:preReleaseBuild\u001b[22m\u001b[31D\u001b[0K\u001b[13D\u001b[0K:mytrackslib:preReleaseBuild\r\n",
        "\u001b[1m> Building 8%\u001b[22m\u001b[2D\u001b[1m9%\u001b[22m\u001b[1m > :mytrackslib:checkReleaseManifest\u001b[22m\u001b[36D\u001b[0K\u001b[13D\u001b[0K:mytrackslib:checkReleaseManifest\r\n",
        "\u001b[1m> Building 9%\u001b[22m\u001b[1m > :mytrackslib:preDebugBuild\u001b[22m\u001b[29D\u001b[0K\u001b[13D\u001b[0K:mytrackslib:preDebugBuild\r\n",
        "\u001b[1m> Building 9%\u001b[22m\u001b[2D\u001b[1m10%\u001b[22m\u001b[1m > :mytrackslib:preDebugTestBuild\u001b[22m\u001b[33D\u001b[0K\u001b[14D\u001b[0K:mytrackslib:preDebugTestBuild\r\n",
        "\u001b[1m> Building 10%\u001b[22m\u001b[2D\u001b[1m1%\u001b[22m\u001b[1m > :mytrackslib:prepareComAndroidSupportAppcompatV71910Library\u001b[22m"
       ]
      },
      {
       "output_type": "stream",
       "stream": "stdout",
       "text": [
        "\u001b[62D\u001b[0K\u001b[14D\u001b[0K:mytrackslib:prepareComAndroidSupportAppcompatV71910Library\r\n",
        "\u001b[1m> Building 11%\u001b[22m\u001b[2D\u001b[1m2%\u001b[22m\u001b[1m > :mytrackslib:prepareReleaseDependencies\u001b[22m\u001b[42D\u001b[0K\u001b[14D\u001b[0K:mytrackslib:prepareReleaseDependencies\r\n",
        "\u001b[1m> Building 12%\u001b[22m\u001b[2D\u001b[1m3%\u001b[22m\u001b[1m > :mytrackslib:compileReleaseAidl\u001b[22m"
       ]
      },
      {
       "output_type": "stream",
       "stream": "stdout",
       "text": [
        "\u001b[34D\u001b[0K\u001b[14D\u001b[0K:mytrackslib:compileReleaseAidl\r\n",
        "\u001b[1m> Building 13%\u001b[22m\u001b[1m > :mytrackslib:compileReleaseRenderscript\u001b[22m\u001b[42D\u001b[0K\u001b[14D\u001b[0K:mytrackslib:compileReleaseRenderscript\r\n",
        "\u001b[1m> Building 13%\u001b[22m\u001b[2D\u001b[1m4%\u001b[22m\u001b[1m > :mytrackslib:generateReleaseBuildConfig\u001b[22m"
       ]
      },
      {
       "output_type": "stream",
       "stream": "stdout",
       "text": [
        "\u001b[42D\u001b[0K\u001b[14D\u001b[0K:mytrackslib:generateReleaseBuildConfig\r\n",
        "\u001b[1m> Building 14%\u001b[22m\u001b[2D\u001b[1m5%\u001b[22m\u001b[1m > :mytrackslib:mergeReleaseAssets\u001b[22m"
       ]
      },
      {
       "output_type": "stream",
       "stream": "stdout",
       "text": [
        "\u001b[34D\u001b[0K\u001b[14D\u001b[0K:mytrackslib:mergeReleaseAssets\r\n",
        "\u001b[1m> Building 15%\u001b[22m\u001b[2D\u001b[1m6%\u001b[22m\u001b[1m > :mytrackslib:generateReleaseResValues\u001b[22m\u001b[40D\u001b[0K\u001b[14D\u001b[0K:mytrackslib:generateReleaseResValues\r\n",
        "\u001b[1m> Building 16%\u001b[22m\u001b[2D\u001b[1m7%\u001b[22m\u001b[1m > :mytrackslib:generateReleaseResources\u001b[22m\u001b[40D\u001b[0K\u001b[14D\u001b[0K:mytrackslib:generateReleaseResources\r\n",
        "\u001b[1m> Building 17%\u001b[22m\u001b[2D\u001b[1m8%\u001b[22m\u001b[1m > :mytrackslib:mergeReleaseResources\u001b[22m"
       ]
      },
      {
       "output_type": "stream",
       "stream": "stdout",
       "text": [
        "\u001b[37D\u001b[0K\u001b[14D\u001b[0K:mytrackslib:mergeReleaseResources\r\n",
        "\u001b[1m> Building 18%\u001b[22m\u001b[1m > :mytrackslib:processReleaseManifest\u001b[22m"
       ]
      },
      {
       "output_type": "stream",
       "stream": "stdout",
       "text": [
        "\u001b[38D\u001b[0K\u001b[14D\u001b[0K:mytrackslib:processReleaseManifest\r\n",
        "\u001b[1m> Building 18%\u001b[22m\u001b[2D\u001b[1m9%\u001b[22m\u001b[1m > :mytrackslib:processReleaseResources\u001b[22m"
       ]
      },
      {
       "output_type": "stream",
       "stream": "stdout",
       "text": [
        "\u001b[39D\u001b[0K\u001b[14D\u001b[0K:mytrackslib:processReleaseResources\r\n",
        "\u001b[1m> Building 19%\u001b[22m\u001b[3D\u001b[1m20%\u001b[22m\u001b[1m > :mytrackslib:generateReleaseSources\u001b[22m\u001b[38D\u001b[0K\u001b[14D\u001b[0K:mytrackslib:generateReleaseSources\r\n",
        "\u001b[1m> Building 20%\u001b[22m\u001b[2D\u001b[1m1%\u001b[22m\u001b[1m > :mytrackslib:compileReleaseJava\u001b[22m"
       ]
      },
      {
       "output_type": "stream",
       "stream": "stdout",
       "text": [
        "\u001b[34D\u001b[0K\u001b[14D\u001b[0K:mytrackslib:compileReleaseJava\r\n",
        "\u001b[1m> Building 21%\u001b[22m\u001b[2D\u001b[1m2%\u001b[22m\u001b[1m > :mytrackslib:processReleaseJavaRes\u001b[22m\u001b[37D\u001b[0K\u001b[14D\u001b[0K:mytrackslib:processReleaseJavaRes \r\n",
        "\u001b[1m> Building 22%\u001b[22m\u001b[14D\u001b[0K\u001b[1A\u001b[35C\u001b[33mUP-TO-DATE\u001b[39m\r\n",
        "\u001b[1m> Building 22%\u001b[22m\u001b[14D\u001b[0K\u001b[1A\u001b[45C\r\n",
        "\u001b[1m> Building 22%\u001b[22m\u001b[1m > :mytrackslib:packageReleaseJar\u001b[22m"
       ]
      },
      {
       "output_type": "stream",
       "stream": "stdout",
       "text": [
        "\u001b[33D\u001b[0K\u001b[14D\u001b[0K:mytrackslib:packageReleaseJar\r\n",
        "\u001b[1m> Building 22%\u001b[22m\u001b[2D\u001b[1m3%\u001b[22m\u001b[1m > :mytrackslib:compileReleaseNdk\u001b[22m\u001b[33D\u001b[0K\u001b[14D\u001b[0K:mytrackslib:compileReleaseNdk\r\n",
        "\u001b[1m> Building 23%\u001b[22m\u001b[2D\u001b[1m4%\u001b[22m\u001b[1m > :mytrackslib:packageReleaseJniLibs\u001b[22m\u001b[37D\u001b[0K\u001b[14D\u001b[0K:mytrackslib:packageReleaseJniLibs \r\n",
        "\u001b[1m> Building 24%\u001b[22m\u001b[14D\u001b[0K\u001b[1A\u001b[35C\u001b[33mUP-TO-DATE\u001b[39m\r\n",
        "\u001b[1m> Building 24%\u001b[22m\u001b[14D\u001b[0K\u001b[1A\u001b[45C\r\n",
        "\u001b[1m> Building 24%\u001b[22m\u001b[2D\u001b[1m5%\u001b[22m\u001b[1m > :mytrackslib:packageReleaseLocalJar\u001b[22m"
       ]
      },
      {
       "output_type": "stream",
       "stream": "stdout",
       "text": [
        "\u001b[38D\u001b[0K\u001b[14D\u001b[0K:mytrackslib:packageReleaseLocalJar\r\n",
        "\u001b[1m> Building 25%\u001b[22m\u001b[2D\u001b[1m6%\u001b[22m\u001b[1m > :mytrackslib:packageReleaseRenderscript\u001b[22m\u001b[42D\u001b[0K\u001b[14D\u001b[0K:mytrackslib:packageReleaseRenderscript \r\n",
        "\u001b[1m> Building 26%\u001b[22m\u001b[14D\u001b[0K\u001b[1A\u001b[40C\u001b[33mUP-TO-DATE\u001b[39m\r\n",
        "\u001b[1m> Building 26%\u001b[22m\u001b[14D\u001b[0K\u001b[1A\u001b[50C\r\n",
        "\u001b[1m> Building 26%\u001b[22m\u001b[2D\u001b[1m7%\u001b[22m\u001b[1m > :mytrackslib:packageReleaseResources\u001b[22m\u001b[39D\u001b[0K\u001b[14D\u001b[0K:mytrackslib:packageReleaseResources\r\n",
        "\u001b[1m> Building 27%\u001b[22m\u001b[1m > :mytrackslib:bundleRelease\u001b[22m"
       ]
      },
      {
       "output_type": "stream",
       "stream": "stdout",
       "text": [
        "\u001b[29D\u001b[0K\u001b[14D\u001b[0K:mytrackslib:bundleRelease\r\n",
        "\u001b[1m> Building 27%\u001b[22m\u001b[2D\u001b[1m8%\u001b[22m\u001b[1m > :app:prepareComAndroidSupportAppcompatV71910Library\u001b[22m"
       ]
      },
      {
       "output_type": "stream",
       "stream": "stdout",
       "text": [
        "\u001b[54D\u001b[0K\u001b[14D\u001b[0K:app:prepareComAndroidSupportAppcompatV71910Library\r\n",
        "\u001b[1m> Building 28%\u001b[22m\u001b[2D\u001b[1m9%\u001b[22m\u001b[1m > :app:prepareComGoogleAndroidGmsPlayServices3136Library\u001b[22m"
       ]
      },
      {
       "output_type": "stream",
       "stream": "stdout",
       "text": [
        "\u001b[57D\u001b[0K\u001b[14D\u001b[0K:app:prepareComGoogleAndroidGmsPlayServices3136Library\r\n",
        "\u001b[1m> Building 29%\u001b[22m\u001b[3D\u001b[1m30%\u001b[22m\u001b[1m > :app:prepareMytracksGradleMytrackslibUnspecifiedLibrary\u001b[22m"
       ]
      },
      {
       "output_type": "stream",
       "stream": "stdout",
       "text": [
        "\u001b[58D\u001b[0K\u001b[14D\u001b[0K:app:prepareMytracksGradleMytrackslibUnspecifiedLibrary\r\n",
        "\u001b[1m> Building 30%\u001b[22m\u001b[2D\u001b[1m1%\u001b[22m\u001b[1m > :app:prepareDebugDependencies\u001b[22m\u001b[32D\u001b[0K\u001b[14D\u001b[0K:app:prepareDebugDependencies\r\n",
        "\u001b[1m> Building 31%\u001b[22m\u001b[1m > :app:compileDebugAidl\u001b[22m\u001b[24D\u001b[0K\u001b[14D\u001b[0K:app:compileDebugAidl\r\n",
        "\u001b[1m> Building 31%\u001b[22m\u001b[2D\u001b[1m2%\u001b[22m\u001b[1m > :app:compileDebugRenderscript\u001b[22m\u001b[32D\u001b[0K\u001b[14D\u001b[0K:app:compileDebugRenderscript\r\n",
        "\u001b[1m> Building 32%\u001b[22m\u001b[2D\u001b[1m3%\u001b[22m\u001b[1m > :app:generateDebugBuildConfig\u001b[22m"
       ]
      },
      {
       "output_type": "stream",
       "stream": "stdout",
       "text": [
        "\u001b[32D\u001b[0K\u001b[14D\u001b[0K:app:generateDebugBuildConfig\r\n",
        "\u001b[1m> Building 33%\u001b[22m\u001b[2D\u001b[1m4%\u001b[22m\u001b[1m > :app:mergeDebugAssets\u001b[22m\u001b[24D\u001b[0K\u001b[14D\u001b[0K:app:mergeDebugAssets\r\n",
        "\u001b[1m> Building 34%\u001b[22m\u001b[2D\u001b[1m5%\u001b[22m\u001b[1m > :app:generateDebugResValues\u001b[22m\u001b[30D\u001b[0K\u001b[14D\u001b[0K:app:generateDebugResValues\r\n",
        "\u001b[1m> Building 35%\u001b[22m\u001b[2D\u001b[1m6%\u001b[22m\u001b[1m > :app:generateDebugResources\u001b[22m\u001b[30D\u001b[0K\u001b[14D\u001b[0K:app:generateDebugResources\r\n",
        "\u001b[1m> Building 36%\u001b[22m"
       ]
      },
      {
       "output_type": "stream",
       "stream": "stdout",
       "text": [
        "\u001b[1m > :app:mergeDebugResources\u001b[22m"
       ]
      },
      {
       "output_type": "stream",
       "stream": "stdout",
       "text": [
        "\u001b[27D\u001b[0K\u001b[14D\u001b[0K:app:mergeDebugResources\r\n",
        "\u001b[1m> Building 36%\u001b[22m\u001b[2D\u001b[1m7%\u001b[22m\u001b[1m > :app:processDebugManifest\u001b[22m"
       ]
      },
      {
       "output_type": "stream",
       "stream": "stdout",
       "text": [
        "\u001b[28D\u001b[0K\u001b[14D\u001b[0K:app:processDebugManifest\r\n",
        "\u001b[1m> Building 37%\u001b[22m\u001b[2D\u001b[1m8%\u001b[22m\u001b[1m > :app:processDebugResources\u001b[22m"
       ]
      },
      {
       "output_type": "stream",
       "stream": "stdout",
       "text": [
        "\u001b[29D\u001b[0K\u001b[14D\u001b[0K:app:processDebugResources\r\n",
        "\u001b[1m> Building 38%\u001b[22m\u001b[2D\u001b[1m9%\u001b[22m\u001b[1m > :app:generateDebugSources\u001b[22m\u001b[28D\u001b[0K\u001b[14D\u001b[0K:app:generateDebugSources\r\n",
        "\u001b[1m> Building 39%\u001b[22m\u001b[3D\u001b[1m40%\u001b[22m\u001b[1m > :app:compileDebugJava\u001b[22m"
       ]
      },
      {
       "output_type": "stream",
       "stream": "stdout",
       "text": [
        "\u001b[38D\u001b[0K:app:compileDebugJava\r\n",
        "\u001b[1m> Building 40% > :app:compileDebugJava\u001b[22m\u001b[38D\u001b[0Kwarning: Supported source version 'RELEASE_5' from annotation processor 'com.google.android.testing.mocking.UsesMocksProcessor' less than -source '1.6'\r\n",
        "\u001b[1m> Building 40% > :app:compileDebugJava\u001b[22m"
       ]
      },
      {
       "output_type": "stream",
       "stream": "stdout",
       "text": [
        "\u001b[38D\u001b[0KNote: Some input files use or override a deprecated API.\r\n",
        "\u001b[1m> Building 40% > :app:compileDebugJava\u001b[22m\u001b[38D\u001b[0KNote: Recompile with -Xlint:deprecation for details.\r\n",
        "\u001b[1m> Building 40% > :app:compileDebugJava\u001b[22m\u001b[38D\u001b[0K1 warning\r\n",
        "\u001b[1m> Building 40% > :app:compileDebugJava\u001b[22m"
       ]
      },
      {
       "output_type": "stream",
       "stream": "stdout",
       "text": [
        "\u001b[24D\u001b[0K\u001b[1m > :app:preDexDebug\u001b[22m"
       ]
      },
      {
       "output_type": "stream",
       "stream": "stdout",
       "text": [
        "\u001b[33D\u001b[0K:app:preDexDebug\r\n",
        "\u001b[1m> Building 40% > :app:preDexDebug\u001b[22m\u001b[33D\u001b[0Kwarning: Ignoring InnerClasses attribute for an anonymous inner class\r\n",
        "\u001b[1m> Building 40% > :app:preDexDebug\u001b[22m\u001b[33D\u001b[0K\u001b[1A\u001b[69C\r\n",
        "\u001b[1m> Building 40% > :app:preDexDebug\u001b[22m\u001b[33D\u001b[0K(javassist.ClassPool$1) that doesn't come with an\r\n",
        "\u001b[1m> Building 40% > :app:preDexDebug\u001b[22m\u001b[33D\u001b[0K\u001b[1A\u001b[49C\r\n",
        "\u001b[1m> Building 40% > :app:preDexDebug\u001b[22m\u001b[33D\u001b[0Kassociated EnclosingMethod attribute. This class was probably produced by a\r\n",
        "\u001b[1m> Building 40% > :app:preDexDebug\u001b[22m\u001b[33D\u001b[0K\u001b[1A\u001b[75C\r\n",
        "\u001b[1m> Building 40% > :app:preDexDebug\u001b[22m\u001b[33D\u001b[0Kcompiler that did not target the modern .class file format. The recommended\r\n",
        "\u001b[1m> Building 40% > :app:preDexDebug\u001b[22m\u001b[33D\u001b[0K\u001b[1A\u001b[75C\r\n",
        "\u001b[1m> Building 40% > :app:preDexDebug\u001b[22m\u001b[33D\u001b[0Ksolution is to recompile the class from source, using an up-to-date compiler\r\n",
        "\u001b[1m> Building 40% > :app:preDexDebug\u001b[22m\u001b[33D\u001b[0K\u001b[1A\u001b[76C\r\n",
        "\u001b[1m> Building 40% > :app:preDexDebug\u001b[22m\u001b[33D\u001b[0Kand without specifying any \"-target\" type options. The consequence of ignoring\r\n",
        "\u001b[1m> Building 40% > :app:preDexDebug\u001b[22m\u001b[33D\u001b[0K\u001b[1A\u001b[78C\r\n",
        "\u001b[1m> Building 40% > :app:preDexDebug\u001b[22m\u001b[33D\u001b[0Kthis warning is that reflective operations on this class will incorrectly\r\n",
        "\u001b[1m> Building 40% > :app:preDexDebug\u001b[22m\u001b[33D\u001b[0K\u001b[1A\u001b[73C\r\n",
        "\u001b[1m> Building 40% > :app:preDexDebug\u001b[22m\u001b[33D\u001b[0Kindicate that it is *not* an inner class.\r\n",
        "\u001b[1m> Building 40% > :app:preDexDebug\u001b[22m\u001b[33D\u001b[0K\u001b[1A\u001b[41C\r\n",
        "\u001b[1m> Building 40% > :app:preDexDebug\u001b[22m"
       ]
      },
      {
       "output_type": "stream",
       "stream": "stdout",
       "text": [
        "\u001b[33D\u001b[0Kwarning: Ignoring InnerClasses attribute for an anonymous inner class\r\n",
        "\u001b[1m> Building 40% > :app:preDexDebug\u001b[22m\u001b[33D\u001b[0K\u001b[1A\u001b[69C\r\n",
        "\u001b[1m> Building 40% > :app:preDexDebug\u001b[22m\u001b[33D\u001b[0K(javassist.CtClass$1) that doesn't come with an\r\n",
        "\u001b[1m> Building 40% > :app:preDexDebug\u001b[22m\u001b[33D\u001b[0K\u001b[1A\u001b[47C\r\n",
        "\u001b[1m> Building 40% > :app:preDexDebug\u001b[22m\u001b[33D\u001b[0Kassociated EnclosingMethod attribute. This class was probably produced by a\r\n",
        "\u001b[1m> Building 40% > :app:preDexDebug\u001b[22m\u001b[33D\u001b[0K\u001b[1A\u001b[75C\r\n",
        "\u001b[1m> Building 40% > :app:preDexDebug\u001b[22m\u001b[33D\u001b[0Kcompiler that did not target the modern .class file format. The recommended\r\n",
        "\u001b[1m> Building 40% > :app:preDexDebug\u001b[22m\u001b[33D\u001b[0K\u001b[1A\u001b[75C\r\n",
        "\u001b[1m> Building 40% > :app:preDexDebug\u001b[22m\u001b[33D\u001b[0Ksolution is to recompile the class from source, using an up-to-date compiler\r\n",
        "\u001b[1m> Building 40% > :app:preDexDebug\u001b[22m\u001b[33D\u001b[0K\u001b[1A\u001b[76C\r\n",
        "\u001b[1m> Building 40% > :app:preDexDebug\u001b[22m\u001b[33D\u001b[0Kand without specifying any \"-target\" type options. The consequence of ignoring\r\n",
        "\u001b[1m> Building 40% > :app:preDexDebug\u001b[22m\u001b[33D\u001b[0K\u001b[1A\u001b[78C\r\n",
        "\u001b[1m> Building 40% > :app:preDexDebug\u001b[22m\u001b[33D\u001b[0Kthis warning is that reflective operations on this class will incorrectly\r\n",
        "\u001b[1m> Building 40% > :app:preDexDebug\u001b[22m\u001b[33D\u001b[0K\u001b[1A\u001b[73C\r\n",
        "\u001b[1m> Building 40% > :app:preDexDebug\u001b[22m"
       ]
      },
      {
       "output_type": "stream",
       "stream": "stdout",
       "text": [
        "\u001b[33D\u001b[0Kindicate that it is *not* an inner class.\r\n",
        "\u001b[1m> Building 40% > :app:preDexDebug\u001b[22m\u001b[33D\u001b[0K\u001b[1A\u001b[41C\r\n",
        "\u001b[1m> Building 40% > :app:preDexDebug\u001b[22m"
       ]
      },
      {
       "output_type": "stream",
       "stream": "stdout",
       "text": [
        "\u001b[33D\u001b[0Kwarning: Ignoring InnerClasses attribute for an anonymous inner class\r\n",
        "\u001b[1m> Building 40% > :app:preDexDebug\u001b[22m\u001b[33D\u001b[0K\u001b[1A\u001b[69C\r\n",
        "\u001b[1m> Building 40% > :app:preDexDebug\u001b[22m\u001b[33D\u001b[0K(javassist.JarDirClassPath$1) that doesn't come with an\r\n",
        "\u001b[1m> Building 40% > :app:preDexDebug\u001b[22m\u001b[33D\u001b[0K\u001b[1A\u001b[55C\r\n",
        "\u001b[1m> Building 40% > :app:preDexDebug\u001b[22m\u001b[33D\u001b[0Kassociated EnclosingMethod attribute. This class was probably produced by a\r\n",
        "\u001b[1m> Building 40% > :app:preDexDebug\u001b[22m\u001b[33D\u001b[0K\u001b[1A\u001b[75C\r\n",
        "\u001b[1m> Building 40% > :app:preDexDebug\u001b[22m\u001b[33D\u001b[0Kcompiler that did not target the modern .class file format. The recommended\r\n",
        "\u001b[1m> Building 40% > :app:preDexDebug\u001b[22m\u001b[33D\u001b[0K\u001b[1A\u001b[75C\r\n",
        "\u001b[1m> Building 40% > :app:preDexDebug\u001b[22m\u001b[33D\u001b[0Ksolution is to recompile the class from source, using an up-to-date compiler\r\n",
        "\u001b[1m> Building 40% > :app:preDexDebug\u001b[22m\u001b[33D\u001b[0K\u001b[1A\u001b[76C\r\n",
        "\u001b[1m> Building 40% > :app:preDexDebug\u001b[22m\u001b[33D\u001b[0Kand without specifying any \"-target\" type options. The consequence of ignoring\r\n",
        "\u001b[1m> Building 40% > :app:preDexDebug\u001b[22m\u001b[33D\u001b[0K\u001b[1A\u001b[78C\r\n",
        "\u001b[1m> Building 40% > :app:preDexDebug\u001b[22m\u001b[33D\u001b[0Kthis warning is that reflective operations on this class will incorrectly\r\n",
        "\u001b[1m> Building 40% > :app:preDexDebug\u001b[22m\u001b[33D\u001b[0K\u001b[1A\u001b[73C\r\n",
        "\u001b[1m> Building 40% > :app:preDexDebug\u001b[22m\u001b[33D\u001b[0Kindicate that it is *not* an inner class.\r\n",
        "\u001b[1m> Building 40% > :app:preDexDebug\u001b[22m\u001b[33D\u001b[0K\u001b[1A\u001b[41C\r\n",
        "\u001b[1m> Building 40% > :app:preDexDebug\u001b[22m"
       ]
      },
      {
       "output_type": "stream",
       "stream": "stdout",
       "text": [
        "\u001b[33D\u001b[0Kwarning: Ignoring InnerClasses attribute for an anonymous inner class\r\n",
        "\u001b[1m> Building 40% > :app:preDexDebug\u001b[22m\u001b[33D\u001b[0K\u001b[1A\u001b[69C\r\n",
        "\u001b[1m> Building 40% > :app:preDexDebug\u001b[22m\u001b[33D\u001b[0K(javassist.SerialVersionUID$1) that doesn't come with an\r\n",
        "\u001b[1m> Building 40% > :app:preDexDebug\u001b[22m\u001b[33D\u001b[0K\u001b[1A\u001b[56C\r\n",
        "\u001b[1m> Building 40% > :app:preDexDebug\u001b[22m\u001b[33D\u001b[0Kassociated EnclosingMethod attribute. This class was probably produced by a\r\n",
        "\u001b[1m> Building 40% > :app:preDexDebug\u001b[22m\u001b[33D\u001b[0K\u001b[1A\u001b[75C\r\n",
        "\u001b[1m> Building 40% > :app:preDexDebug\u001b[22m\u001b[33D\u001b[0Kcompiler that did not target the modern .class file format. The recommended\r\n",
        "\u001b[1m> Building 40% > :app:preDexDebug\u001b[22m\u001b[33D\u001b[0K\u001b[1A\u001b[75C\r\n",
        "\u001b[1m> Building 40% > :app:preDexDebug\u001b[22m\u001b[33D\u001b[0Ksolution is to recompile the class from source, using an up-to-date compiler\r\n",
        "\u001b[1m> Building 40% > :app:preDexDebug\u001b[22m\u001b[33D\u001b[0K\u001b[1A\u001b[76C\r\n",
        "\u001b[1m> Building 40% > :app:preDexDebug\u001b[22m\u001b[33D\u001b[0Kand without specifying any \"-target\" type options. The consequence of ignoring\r\n",
        "\u001b[1m> Building 40% > :app:preDexDebug\u001b[22m\u001b[33D\u001b[0K\u001b[1A\u001b[78C\r\n",
        "\u001b[1m> Building 40% > :app:preDexDebug\u001b[22m\u001b[33D\u001b[0Kthis warning is that reflective operations on this class will incorrectly\r\n",
        "\u001b[1m> Building 40% > :app:preDexDebug\u001b[22m\u001b[33D\u001b[0K\u001b[1A\u001b[73C\r\n",
        "\u001b[1m> Building 40% > :app:preDexDebug\u001b[22m\u001b[33D\u001b[0Kindicate that it is *not* an inner class.\r\n",
        "\u001b[1m> Building 40% > :app:preDexDebug\u001b[22m\u001b[33D\u001b[0K\u001b[1A\u001b[41C\r\n",
        "\u001b[1m> Building 40% > :app:preDexDebug\u001b[22m\u001b[33D\u001b[0Kwarning: Ignoring InnerClasses attribute for an anonymous inner class\r\n",
        "\u001b[1m> Building 40% > :app:preDexDebug\u001b[22m\u001b[33D\u001b[0K\u001b[1A\u001b[69C\r\n",
        "\u001b[1m> Building 40% > :app:preDexDebug\u001b[22m\u001b[33D\u001b[0K(javassist.SerialVersionUID$2) that doesn't come with an\r\n",
        "\u001b[1m> Building 40% > :app:preDexDebug\u001b[22m\u001b[33D\u001b[0K\u001b[1A\u001b[56C\r\n",
        "\u001b[1m> Building 40% > :app:preDexDebug\u001b[22m\u001b[33D\u001b[0Kassociated EnclosingMethod attribute. This class was probably produced by a\r\n",
        "\u001b[1m> Building 40% > :app:preDexDebug\u001b[22m\u001b[33D\u001b[0K\u001b[1A\u001b[75C\r\n",
        "\u001b[1m> Building 40% > :app:preDexDebug\u001b[22m\u001b[33D\u001b[0Kcompiler that did not target the modern .class file format. The recommended\r\n",
        "\u001b[1m> Building 40% > :app:preDexDebug\u001b[22m\u001b[33D\u001b[0K\u001b[1A\u001b[75C\r\n",
        "\u001b[1m> Building 40% > :app:preDexDebug\u001b[22m\u001b[33D\u001b[0Ksolution is to recompile the class from source, using an up-to-date compiler\r\n",
        "\u001b[1m> Building 40% > :app:preDexDebug\u001b[22m\u001b[33D\u001b[0K\u001b[1A\u001b[76C\r\n",
        "\u001b[1m> Building 40% > :app:preDexDebug\u001b[22m\u001b[33D\u001b[0Kand without specifying any \"-target\" type options. The consequence of ignoring\r\n",
        "\u001b[1m> Building 40% > :app:preDexDebug\u001b[22m\u001b[33D\u001b[0K\u001b[1A\u001b[78C\r\n",
        "\u001b[1m> Building 40% > :app:preDexDebug\u001b[22m\u001b[33D\u001b[0Kthis warning is that reflective operations on this class will incorrectly\r\n",
        "\u001b[1m> Building 40% > :app:preDexDebug\u001b[22m\u001b[33D\u001b[0K\u001b[1A\u001b[73C\r\n",
        "\u001b[1m> Building 40% > :app:preDexDebug\u001b[22m\u001b[33D\u001b[0Kindicate that it is *not* an inner class.\r\n",
        "\u001b[1m> Building 40% > :app:preDexDebug\u001b[22m\u001b[33D\u001b[0K\u001b[1A\u001b[41C\r\n",
        "\u001b[1m> Building 40% > :app:preDexDebug\u001b[22m\u001b[33D\u001b[0Kwarning: Ignoring InnerClasses attribute for an anonymous inner class\r\n",
        "\u001b[1m> Building 40% > :app:preDexDebug\u001b[22m\u001b[33D\u001b[0K\u001b[1A\u001b[69C\r\n",
        "\u001b[1m> Building 40% > :app:preDexDebug\u001b[22m\u001b[33D\u001b[0K(javassist.SerialVersionUID$3) that doesn't come with an\r\n",
        "\u001b[1m> Building 40% > :app:preDexDebug\u001b[22m\u001b[33D\u001b[0K\u001b[1A\u001b[56C\r\n",
        "\u001b[1m> Building 40% > :app:preDexDebug\u001b[22m\u001b[33D\u001b[0Kassociated EnclosingMethod attribute. This class was probably produced by a\r\n",
        "\u001b[1m> Building 40% > :app:preDexDebug\u001b[22m\u001b[33D\u001b[0K\u001b[1A\u001b[75C\r\n",
        "\u001b[1m> Building 40% > :app:preDexDebug\u001b[22m\u001b[33D\u001b[0Kcompiler that did not target the modern .class file format. The recommended\r\n",
        "\u001b[1m> Building 40% > :app:preDexDebug\u001b[22m\u001b[33D\u001b[0K\u001b[1A\u001b[75C\r\n",
        "\u001b[1m> Building 40% > :app:preDexDebug\u001b[22m\u001b[33D\u001b[0Ksolution is to recompile the class from source, using an up-to-date compiler\r\n",
        "\u001b[1m> Building 40% > :app:preDexDebug\u001b[22m\u001b[33D\u001b[0K\u001b[1A\u001b[76C\r\n",
        "\u001b[1m> Building 40% > :app:preDexDebug\u001b[22m\u001b[33D\u001b[0Kand without specifying any \"-target\" type options. The consequence of ignoring\r\n",
        "\u001b[1m> Building 40% > :app:preDexDebug\u001b[22m\u001b[33D\u001b[0K\u001b[1A\u001b[78C\r\n",
        "\u001b[1m> Building 40% > :app:preDexDebug\u001b[22m\u001b[33D\u001b[0Kthis warning is that reflective operations on this class will incorrectly\r\n",
        "\u001b[1m> Building 40% > :app:preDexDebug\u001b[22m\u001b[33D\u001b[0K\u001b[1A\u001b[73C\r\n",
        "\u001b[1m> Building 40% > :app:preDexDebug\u001b[22m\u001b[33D\u001b[0Kindicate that it is *not* an inner class.\r\n",
        "\u001b[1m> Building 40% > :app:preDexDebug\u001b[22m\u001b[33D\u001b[0K\u001b[1A\u001b[41C\r\n",
        "\u001b[1m> Building 40% > :app:preDexDebug\u001b[22m"
       ]
      },
      {
       "output_type": "stream",
       "stream": "stdout",
       "text": [
        "\u001b[33D\u001b[0Kwarning: Ignoring InnerClasses attribute for an anonymous inner class\r\n",
        "\u001b[1m> Building 40% > :app:preDexDebug\u001b[22m\u001b[33D\u001b[0K\u001b[1A\u001b[69C\r\n",
        "\u001b[1m> Building 40% > :app:preDexDebug\u001b[22m\u001b[33D\u001b[0K(javassist.compiler.CodeGen$1) that doesn't come with an\r\n",
        "\u001b[1m> Building 40% > :app:preDexDebug\u001b[22m\u001b[33D\u001b[0K\u001b[1A\u001b[56C\r\n",
        "\u001b[1m> Building 40% > :app:preDexDebug\u001b[22m\u001b[33D\u001b[0Kassociated EnclosingMethod attribute. This class was probably produced by a\r\n",
        "\u001b[1m> Building 40% > :app:preDexDebug\u001b[22m\u001b[33D\u001b[0K\u001b[1A\u001b[75C\r\n",
        "\u001b[1m> Building 40% > :app:preDexDebug\u001b[22m\u001b[33D\u001b[0Kcompiler that did not target the modern .class file format. The recommended\r\n",
        "\u001b[1m> Building 40% > :app:preDexDebug\u001b[22m\u001b[33D\u001b[0K\u001b[1A\u001b[75C\r\n",
        "\u001b[1m> Building 40% > :app:preDexDebug\u001b[22m\u001b[33D\u001b[0Ksolution is to recompile the class from source, using an up-to-date compiler\r\n",
        "\u001b[1m> Building 40% > :app:preDexDebug\u001b[22m\u001b[33D\u001b[0K\u001b[1A\u001b[76C\r\n",
        "\u001b[1m> Building 40% > :app:preDexDebug\u001b[22m\u001b[33D\u001b[0Kand without specifying any \"-target\" type options. The consequence of ignoring\r\n",
        "\u001b[1m> Building 40% > :app:preDexDebug\u001b[22m\u001b[33D\u001b[0K\u001b[1A\u001b[78C\r\n",
        "\u001b[1m> Building 40% > :app:preDexDebug\u001b[22m\u001b[33D\u001b[0Kthis warning is that reflective operations on this class will incorrectly\r\n",
        "\u001b[1m>"
       ]
      },
      {
       "output_type": "stream",
       "stream": "stdout",
       "text": [
        " Building 40% > :app:preDexDebug\u001b[22m\u001b[33D\u001b[0K\u001b[1A\u001b[73C\r\n",
        "\u001b[1m> Building 40% > :app:preDexDebug\u001b[22m\u001b[33D\u001b[0Kindicate that it is *not* an inner class.\r\n",
        "\u001b[1m> Building 40% > :app:preDexDebug\u001b[22m\u001b[33D\u001b[0K\u001b[1A\u001b[41C\r\n",
        "\u001b[1m> Building 40% > :app:preDexDebug\u001b[22m"
       ]
      },
      {
       "output_type": "stream",
       "stream": "stdout",
       "text": [
        "\u001b[33D\u001b[0Kwarning: Ignoring InnerClasses attribute for an anonymous inner class\r\n",
        "\u001b[1m> Building 40% > :app:preDexDebug\u001b[22m\u001b[33D\u001b[0K\u001b[1A\u001b[69C\r\n",
        "\u001b[1m> Building 40% > :app:preDexDebug\u001b[22m\u001b[33D\u001b[0K(javassist.compiler.Javac$1) that doesn't come with an\r\n",
        "\u001b[1m> Building 40% > :app:preDexDebug\u001b[22m\u001b[33D\u001b[0K\u001b[1A\u001b[54C\r\n",
        "\u001b[1m> Building 40% > :app:preDexDebug\u001b[22m\u001b[33D\u001b[0Kassociated EnclosingMethod attribute. This class was probably produced by a\r\n",
        "\u001b[1m> Building 40% > :app:preDexDebug\u001b[22m\u001b[33D\u001b[0K\u001b[1A\u001b[75C\r\n",
        "\u001b[1m> Building 40% > :app:preDexDebug\u001b[22m\u001b[33D\u001b[0Kcompiler that did not target the modern .class file format. The recommended\r\n",
        "\u001b[1m> Building 40% > :app:preDexDebug\u001b[22m\u001b[33D\u001b[0K\u001b[1A\u001b[75C\r\n",
        "\u001b[1m> Building 40% > :app:preDexDebug\u001b[22m\u001b[33D\u001b[0Ksolution is to recompile the class from source, using an up-to-date compiler\r\n",
        "\u001b[1m> Building 40% > :app:preDexDebug\u001b[22m\u001b[33D\u001b[0K\u001b[1A\u001b[76C\r\n",
        "\u001b[1m> Building 40% > :app:preDexDebug\u001b[22m\u001b[33D\u001b[0Kand without specifying any \"-target\" type options. The consequence of ignoring\r\n",
        "\u001b[1m> Building 40% > :app:preDexDebug\u001b[22m\u001b[33D\u001b[0K\u001b[1A\u001b[78C\r\n",
        "\u001b[1m> Building 40% > :app:preDexDebug\u001b[22m\u001b[33D\u001b[0Kthis warning is that reflective operations on this class will incorrectly\r\n",
        "\u001b[1m> Building 40% > :app:preDexDebug\u001b[22m\u001b[33D\u001b[0K\u001b[1A\u001b[73C\r\n",
        "\u001b[1m> Building 40% > :app:preDexDebug\u001b[22m\u001b[33D\u001b[0Kindicate that it is *not* an inner class.\r\n",
        "\u001b[1m> Building 40% > :app:preDexDebug\u001b[22m\u001b[33D\u001b[0K\u001b[1A\u001b[41C\r\n",
        "\u001b[1m> Building 40% > :app:preDexDebug\u001b[22m\u001b[33D\u001b[0Kwarning: Ignoring InnerClasses attribute for an anonymous inner class\r\n",
        "\u001b[1m> Building 40% > :app:preDexDebug\u001b[22m\u001b[33D\u001b[0K\u001b[1A\u001b[69C\r\n",
        "\u001b[1m> Building 40% > :app:preDexDebug\u001b[22m\u001b[33D\u001b[0K(javassist.compiler.Javac$2) that doesn't come with an\r\n",
        "\u001b[1m> Building 40% > :app:preDexDebug\u001b[22m\u001b[33D\u001b[0K\u001b[1A\u001b[54C\r\n",
        "\u001b[1m> Building 40% > :app:preDexDebug\u001b[22m\u001b[33D\u001b[0Kassociated EnclosingMethod attribute. This class was probably produced by a\r\n",
        "\u001b[1m> Building 40% > :app:preDexDebug\u001b[22m\u001b[33D\u001b[0K\u001b[1A\u001b[75C\r\n",
        "\u001b[1m> Building 40% > :app:preDexDebug\u001b[22m\u001b[33D\u001b[0Kcompiler that did not target the modern .class file format. The recommended\r\n",
        "\u001b[1m> Building 40% > :app:preDexDebug\u001b[22m\u001b[33D\u001b[0K\u001b[1A\u001b[75C\r\n",
        "\u001b[1m> Building 40% > :app:preDexDebug\u001b[22m\u001b[33D\u001b[0Ksolution is to recompile the class from source, using an up-to-date compiler\r\n",
        "\u001b[1m> Building 40% > :app:preDexDebug\u001b[22m\u001b[33D\u001b[0K\u001b[1A\u001b[76C\r\n",
        "\u001b[1m> Building 40% > :app:preDexDebug\u001b[22m\u001b[33D\u001b[0Kand without specifying any \"-target\" type options. The consequence of ignoring\r\n",
        "\u001b[1m> Building 40% > :app:preDexDebug\u001b[22m\u001b[33D\u001b[0K\u001b[1A\u001b[78C\r\n",
        "\u001b[1m> Building 40% > :app:preDexDebug\u001b[22m\u001b[33D\u001b[0Kthis warning is that reflective operations on this class will incorrectly\r\n",
        "\u001b[1m> Building 40% > :app:preDexDebug\u001b[22m\u001b[33D\u001b[0K\u001b[1A\u001b[73C\r\n",
        "\u001b[1m> Building 40% > :app:preDexDebug\u001b[22m\u001b[33D\u001b[0Kindicate that it is *not* an inner class.\r\n",
        "\u001b[1m> Building 40% > :app:preDexDebug\u001b[22m\u001b[33D\u001b[0K\u001b[1A\u001b[41C\r\n",
        "\u001b[1m> Building 40% > :app:preDexDebug\u001b[22m\u001b[33D\u001b[0Kwarning: Ignoring InnerClasses attribute for an anonymous inner class\r\n",
        "\u001b[1m> Building 40% > :app:preDexDebug\u001b[22m\u001b[33D\u001b[0K\u001b[1A\u001b[69C\r\n",
        "\u001b[1m> Building 40% > :app:preDexDebug\u001b[22m\u001b[33D\u001b[0K(javassist.compiler.Javac$3) that doesn't come with an\r\n",
        "\u001b[1m> Building 40% > :app:preDexDebug\u001b[22m\u001b[33D\u001b[0K\u001b[1A\u001b[54C\r\n",
        "\u001b[1m> Building 40% > :app:preDexDebug\u001b[22m\u001b[33D\u001b[0Kassociated EnclosingMethod attribute. This class was probably produced by a\r\n",
        "\u001b[1m> Building 40% > :app:preDexDebug\u001b[22m\u001b[33D\u001b[0K\u001b[1A\u001b[75C\r\n",
        "\u001b[1m> Building 40% > :app:preDexDebug\u001b[22m\u001b[33D\u001b[0Kcompiler that did not target the modern .class file format. The recommended\r\n",
        "\u001b[1m> Building 40% > :app:preDexDebug\u001b[22m\u001b[33D\u001b[0K\u001b[1A\u001b[75C\r\n",
        "\u001b[1m> Building 40% > :app:preDexDebug\u001b[22m\u001b[33D\u001b[0Ksolution is to recompile the class from source, using an up-to-date compiler\r\n",
        "\u001b[1m> Building 40% > :app:preDexDebug\u001b[22m\u001b[33D\u001b[0K\u001b[1A\u001b[76C\r\n",
        "\u001b[1m> Building 40% > :app:preDexDebug\u001b[22m\u001b[33D\u001b[0Kand without specifying any \"-target\" type options. The consequence of ignoring\r\n",
        "\u001b[1m> Building 40% > :app:preDexDebug\u001b[22m\u001b[33D\u001b[0K\u001b[1A\u001b[78C\r\n",
        "\u001b[1m> Building 40% > :app:preDexDebug\u001b[22m\u001b[33D\u001b[0Kthis warning is that reflective operations on this class will incorrectly\r\n",
        "\u001b[1m> Building 40% > :app:preDexDebug\u001b[22m\u001b[33D\u001b[0K\u001b[1A\u001b[73C\r\n",
        "\u001b[1m> Building 40% > :app:preDexDebug\u001b[22m\u001b[33D\u001b[0Kindicate that it is *not* an inner class.\r\n",
        "\u001b[1m> Building 40% > :app:preDexDebug\u001b[22m\u001b[33D\u001b[0K\u001b[1A\u001b[41C\r\n",
        "\u001b[1m> Building 40% > :app:preDexDebug\u001b[22m"
       ]
      },
      {
       "output_type": "stream",
       "stream": "stdout",
       "text": [
        "\u001b[33D\u001b[0Kwarning: Ignoring InnerClasses attribute for an anonymous inner class\r\n",
        "\u001b[1m> Building 40% > :app:preDexDebug\u001b[22m\u001b[33D\u001b[0K\u001b[1A\u001b[69C\r\n",
        "\u001b[1m> Building 40% > :app:preDexDebug\u001b[22m\u001b[33D\u001b[0K(javassist.util.HotSwapper$1) that doesn't come with an\r\n",
        "\u001b[1m> Building 40% > :app:preDexDebug\u001b[22m\u001b[33D\u001b[0K\u001b[1A\u001b[55C\r\n",
        "\u001b[1m> Building 40% > :app:preDexDebug\u001b[22m\u001b[33D\u001b[0Kassociated EnclosingMethod attribute. This class was probably produced by a\r\n",
        "\u001b[1m> Building 40% > :app:preDexDebug\u001b[22m\u001b[33D\u001b[0K\u001b[1A\u001b[75C\r\n",
        "\u001b[1m> Building 40% > :app:preDexDebug\u001b[22m\u001b[33D\u001b[0Kcompiler that did not target the modern .class file format. The recommended\r\n",
        "\u001b[1m> Building 40% > :app:preDexDebug\u001b[22m\u001b[33D\u001b[0K\u001b[1A\u001b[75C\r\n",
        "\u001b[1m> Building 40% > :app:preDexDebug\u001b[22m\u001b[33D\u001b[0Ksolution is to recompile the class from source, using an up-to-date compiler\r\n",
        "\u001b[1m> Building 40% > :app:preDexDebug\u001b[22m\u001b[33D\u001b[0K\u001b[1A\u001b[76C\r\n",
        "\u001b[1m> Building 40% > :app:preDexDebug\u001b[22m\u001b[33D\u001b[0Kand without specifying any \"-target\" type options. The consequence of ignoring\r\n",
        "\u001b[1m> Building 40% > :app:preDexDebug\u001b[22m\u001b[33D\u001b[0K\u001b[1A\u001b[78C\r\n",
        "\u001b[1m> Building 40% > :app:preDexDebug\u001b[22m\u001b[33D\u001b[0Kthis warning is that reflective operations on this class will incorrectly\r\n",
        "\u001b[1m> Building 40% > :app:preDexDebug\u001b[22m\u001b[33D\u001b[0K\u001b[1A\u001b[73C\r\n",
        "\u001b[1m> Building 40% > :app:preDexDebug\u001b[22m\u001b[33D\u001b[0Kindicate that it is *not* an inner class.\r\n",
        "\u001b[1m> Building 40% > :app:preDexDebug\u001b[22m\u001b[33D\u001b[0K\u001b[1A\u001b[41C\r\n",
        "\u001b[1m> Building 40% > :app:preDexDebug\u001b[22m"
       ]
      },
      {
       "output_type": "stream",
       "stream": "stdout",
       "text": [
        "\u001b[33D\u001b[0Kwarning: Ignoring InnerClasses attribute for an anonymous inner class\r\n",
        "\u001b[1m> Building 40% > :app:preDexDebug\u001b[22m\u001b[33D\u001b[0K\u001b[1A\u001b[69C\r\n",
        "\u001b[1m> Building 40% > :app:preDexDebug\u001b[22m\u001b[33D\u001b[0K(javassist.util.proxy.ProxyFactory$1) that doesn't come with an\r\n",
        "\u001b[1m> Building 40% > :app:preDexDebug\u001b[22m\u001b[33D\u001b[0K\u001b[1A\u001b[63C\r\n",
        "\u001b[1m> Building 40% > :app:preDexDebug\u001b[22m\u001b[33D\u001b[0Kassociated EnclosingMethod attribute. This class was probably produced by a\r\n",
        "\u001b[1m> Building 40% > :app:preDexDebug\u001b[22m\u001b[33D\u001b[0K\u001b[1A\u001b[75C\r\n",
        "\u001b[1m> Building 40% > :app:preDexDebug\u001b[22m\u001b[33D\u001b[0Kcompiler that did not target the modern .class file format. The recommended\r\n",
        "\u001b[1m> Building 40% > :app:preDexDebug\u001b[22m\u001b[33D\u001b[0K\u001b[1A\u001b[75C\r\n",
        "\u001b[1m> Building 40% > :app:preDexDebug\u001b[22m\u001b[33D\u001b[0Ksolution is to recompile the class from source, using an up-to-date compiler\r\n",
        "\u001b[1m> Building 40% > :app:preDexDebug\u001b[22m\u001b[33D\u001b[0K\u001b[1A\u001b[76C\r\n",
        "\u001b[1m> Building 40% > :app:preDexDebug\u001b[22m\u001b[33D\u001b[0Kand without specifying any \"-target\" type options. The consequence of ignoring\r\n",
        "\u001b[1m> Building 40% > :app:preDexDebug\u001b[22m\u001b[33D\u001b[0K\u001b[1A\u001b[78C\r\n",
        "\u001b[1m> Building 40% > :app:preDexDebug\u001b[22m\u001b[33D\u001b[0Kthis warning is that reflective operations on this class will incorrectly\r\n",
        "\u001b[1m> Building 40% > :app:preDexDebug\u001b[22m\u001b[33D\u001b[0K\u001b[1A\u001b[73C\r\n",
        "\u001b[1m> Building 40% > :app:preDexDebug\u001b[22m\u001b[33D\u001b[0Kindicate that it is *not* an inner class.\r\n",
        "\u001b[1m> Building 40% > :app:preDexDebug\u001b[22m\u001b[33D\u001b[0K\u001b[1A\u001b[41C\r\n",
        "\u001b[1m> Building 40% > :app:preDexDebug\u001b[22m"
       ]
      },
      {
       "output_type": "stream",
       "stream": "stdout",
       "text": [
        "\u001b[33D\u001b[0Kwarning: Ignoring InnerClasses attribute for an anonymous inner class\r\n",
        "\u001b[1m> Building 40% > :app:preDexDebug\u001b[22m\u001b[33D\u001b[0K\u001b[1A\u001b[69C\r\n",
        "\u001b[1m> Building 40% > :app:preDexDebug\u001b[22m\u001b[33D\u001b[0K(javassist.util.proxy.SecurityActions$1) that doesn't come with an\r\n",
        "\u001b[1m> Building 40% > :app:preDexDebug\u001b[22m\u001b[33D\u001b[0K\u001b[1A\u001b[66C\r\n",
        "\u001b[1m> Building 40% > :app:preDexDebug\u001b[22m\u001b[33D\u001b[0Kassociated EnclosingMethod attribute. This class was probably produced by a\r\n",
        "\u001b[1m> Building 40% > :app:preDexDebug\u001b[22m\u001b[33D\u001b[0K\u001b[1A\u001b[75C\r\n",
        "\u001b[1m> Building 40% > :app:preDexDebug\u001b[22m\u001b[33D\u001b[0Kcompiler that did not target the modern .class file format. The recommended\r\n",
        "\u001b[1m> Building 40% > :app:preDexDebug\u001b[22m\u001b[33D\u001b[0K\u001b[1A\u001b[75C\r\n",
        "\u001b[1m> Building 40% > :app:preDexDebug\u001b[22m\u001b[33D\u001b[0Ksolution is to recompile the class from source, using an up-to-date compiler\r\n",
        "\u001b[1m> Building 40% > :app:preDexDebug\u001b[22m\u001b[33D\u001b[0K\u001b[1A\u001b[76C\r\n",
        "\u001b[1m> Building 40% > :app:preDexDebug\u001b[22m\u001b[33D\u001b[0Kand without specifying any \"-target\" type options. The consequence of ignoring\r\n",
        "\u001b[1m> Building 40% > :app:preDexDebug\u001b[22m\u001b[33D\u001b[0K\u001b[1A\u001b[78C\r\n",
        "\u001b[1m> Building 40% > :app:preDexDebug\u001b[22m\u001b[33D\u001b[0Kthis warning is that reflective operations on this class will incorrectly\r\n",
        "\u001b[1m> Building 40% > :app:preDexDebug\u001b[22m\u001b[33D\u001b[0K\u001b[1A\u001b[73C\r\n",
        "\u001b[1m> Building 40% > :app:preDexDebug\u001b[22m\u001b[33D\u001b[0Kindicate that it is *not* an inner class.\r\n",
        "\u001b[1m> Building 40% > :app:preDexDebug\u001b[22m\u001b[33D\u001b[0K\u001b[1A\u001b[41C\r\n",
        "\u001b[1m> Building 40% > :app:preDexDebug\u001b[22m\u001b[33D\u001b[0Kwarning: Ignoring InnerClasses attribute for an anonymous inner class\r\n",
        "\u001b[1m> Building 40% > :app:preDexDebug\u001b[22m\u001b[33D\u001b[0K\u001b[1A\u001b[69C\r\n",
        "\u001b[1m> Building 40% > :app:preDexDebug\u001b[22m\u001b[33D\u001b[0K(javassist.util.proxy.SecurityActions$2) that doesn't come with an\r\n",
        "\u001b[1m> Building 40% > :app:preDexDebug\u001b[22m\u001b[33D\u001b[0K\u001b[1A\u001b[66C\r\n",
        "\u001b[1m> Building 40% > :app:preDexDebug\u001b[22m\u001b[33D\u001b[0Kassociated EnclosingMethod attribute. This class was probably produced by a\r\n",
        "\u001b[1m> Building 40% > :app:preDexDebug\u001b[22m\u001b[33D\u001b[0K\u001b[1A\u001b[75C\r\n",
        "\u001b[1m> Building 40% > :app:preDexDebug\u001b[22m\u001b[33D\u001b[0Kcompiler that did not target the modern .class file format. The recommended\r\n",
        "\u001b[1m> Building 40% > :app:preDexDebug\u001b[22m\u001b[33D\u001b[0K\u001b[1A\u001b[75C\r\n",
        "\u001b[1m> Building 40% > :app:preDexDebug\u001b[22m\u001b[33D\u001b[0Ksolution is to recompile the class from source, using an up-to-date compiler\r\n",
        "\u001b[1m> Building 40% > :app:preDexDebug\u001b[22m\u001b[33D\u001b[0K\u001b[1A\u001b[76C\r\n",
        "\u001b[1m> Building 40% > :app:preDexDebug\u001b[22m\u001b[33D\u001b[0Kand without specifying any \"-target\" type options. The consequence of ignoring\r\n",
        "\u001b[1m> Building 40% > :app:preDexDebug\u001b[22m\u001b[33D\u001b[0K\u001b[1A\u001b[78C\r\n",
        "\u001b[1m> Building 40% > :app:preDexDebug\u001b[22m\u001b[33D\u001b[0Kthis warning is that reflective operations on this class will incorrectly\r\n",
        "\u001b[1m> Building 40% > :app:preDexDebug\u001b[22m\u001b[33D\u001b[0K\u001b[1A\u001b[73C\r\n",
        "\u001b[1m> Building 40% > :app:preDexDebug\u001b[22m\u001b[33D\u001b[0Kindicate that it is *not* an inner class.\r\n",
        "\u001b[1m> Building 40% > :app:preDexDebug\u001b[22m\u001b[33D\u001b[0K\u001b[1A\u001b[41C\r\n",
        "\u001b[1m> Building 40% > :app:preDexDebug\u001b[22m\u001b[33D\u001b[0Kwarning: Ignoring InnerClasses attribute for an anonymous inner class\r\n",
        "\u001b[1m> Building 40% > :app:preDexDebug\u001b[22m\u001b[33D\u001b[0K\u001b[1A\u001b[69C\r\n",
        "\u001b[1m> Building 40% > :app:preDexDebug\u001b[22m\u001b[33D\u001b[0K(javassist.util.proxy.SecurityActions$3) that doesn't come with an\r\n",
        "\u001b[1m> Building 40% > :app:preDexDebug\u001b[22m\u001b[33D\u001b[0K\u001b[1A\u001b[66C\r\n",
        "\u001b[1m> Building 40% > :app:preDexDebug\u001b[22m\u001b[33D\u001b[0Kassociated EnclosingMethod attribute. This class was probably produced by a\r\n",
        "\u001b[1m> Building 40% > :app:preDexDebug\u001b[22m\u001b[33D\u001b[0K\u001b[1A\u001b[75C\r\n",
        "\u001b[1m> Building 40% > :app:preDexDebug\u001b[22m\u001b[33D\u001b[0Kcompiler that did not target the modern .class file format. The recommended\r\n",
        "\u001b[1m> Building 40% > :app:preDexDebug\u001b[22m\u001b[33D\u001b[0K\u001b[1A\u001b[75C\r\n",
        "\u001b[1m> Building 40% > :app:preDexDebug\u001b[22m\u001b[33D\u001b[0Ksolution is to recompile the class from source, using an up-to-date compiler\r\n",
        "\u001b[1m> Building 40% > :app:preDexDebug\u001b[22m\u001b[33D\u001b[0K\u001b[1A\u001b[76C\r\n",
        "\u001b[1m> Building 40% > :app:preDexDebug\u001b[22m\u001b[33D\u001b[0Kand without specifying any \"-target\" type options. The consequence of ignoring\r\n",
        "\u001b[1m> Building 40% > :app:preDexDebug\u001b[22m\u001b[33D\u001b[0K\u001b[1A\u001b[78C\r\n",
        "\u001b[1m> Building 40% > :app:preDexDebug\u001b[22m\u001b[33D\u001b[0Kthis warning is that reflective operations on this class will incorrectly\r\n",
        "\u001b[1m> Building 40% > :app:preDexDebug\u001b[22m\u001b[33D\u001b[0K\u001b[1A\u001b[73C\r\n",
        "\u001b[1m> Building 40% > :app:preDexDebug\u001b[22m\u001b[33D\u001b[0Kindicate that it is *not* an inner class.\r\n",
        "\u001b[1m> Building 40% > :app:preDexDebug\u001b[22m\u001b[33D\u001b[0K\u001b[1A\u001b[41C\r\n",
        "\u001b[1m> Building 40% > :app:preDexDebug\u001b[22m\u001b[33D\u001b[0Kwarning: Ignoring InnerClasses attribute for an anonymous inner class\r\n",
        "\u001b[1m> Building 40% > :app:preDexDebug\u001b[22m\u001b[33D\u001b[0K\u001b[1A\u001b[69C\r\n",
        "\u001b[1m> Building 40% > :app:preDexDebug\u001b[22m\u001b[33D\u001b[0K(javassist.util.proxy.SecurityActions$4) that doesn't come with an\r\n",
        "\u001b[1m> Building 40% > :app:preDexDebug\u001b[22m\u001b[33D\u001b[0K\u001b[1A\u001b[66C\r\n",
        "\u001b[1m> Building 40% > :app:preDexDebug\u001b[22m\u001b[33D\u001b[0Kassociated EnclosingMethod attribute. This class was probably produced by a\r\n",
        "\u001b[1m> Building 40% > :app:preDexDebug\u001b[22m\u001b[33D\u001b[0K\u001b[1A\u001b[75C\r\n",
        "\u001b[1m> Building 40% > :app:preDexDebug\u001b[22m\u001b[33D\u001b[0Kcompiler that did not target the modern .class file format. The recommended\r\n",
        "\u001b[1m> Building 40% > :app:preDexDebug\u001b[22m\u001b[33D\u001b[0K\u001b[1A\u001b[75C\r\n",
        "\u001b[1m> Building 40% > :app:preDexDebug\u001b[22m\u001b[33D\u001b[0Ksolution is to recompile the class from source, using an up-to-date compiler\r\n",
        "\u001b[1m> Building 40% > :app:preDexDebug\u001b[22m\u001b[33D\u001b[0K\u001b[1A\u001b[76C\r\n",
        "\u001b[1m> Building 40% > :app:preDexDebug\u001b[22m\u001b[33D\u001b[0Kand without specifying any \"-target\" type options. The consequence of ignoring\r\n",
        "\u001b[1m> Building 40% > :app:preDexDebug\u001b[22m\u001b[33D\u001b[0K\u001b[1A\u001b[78C\r\n",
        "\u001b[1m> Building 40% > :app:preDexDebug\u001b[22m\u001b[33D\u001b[0Kthis warning is that reflective operations on this class will incorrectly\r\n",
        "\u001b[1m> Building 40% > :app:preDexDebug\u001b[22m\u001b[33D\u001b[0K\u001b[1A\u001b[73C\r\n",
        "\u001b[1m> Building 40% > :app:preDexDebug\u001b[22m\u001b[33D\u001b[0Kindicate that it is *not* an inner class.\r\n",
        "\u001b[1m> Building 40% > :app:preDexDebug\u001b[22m\u001b[33D\u001b[0K\u001b[1A\u001b[41C\r\n",
        "\u001b[1m> Building 40% > :app:preDexDebug\u001b[22m\u001b[33D\u001b[0Kwarning: Ignoring InnerClasses attribute for an anonymous inner class\r\n",
        "\u001b[1m> Building 40% > :app:preDexDebug\u001b[22m\u001b[33D\u001b[0K\u001b[1A\u001b[69C\r\n",
        "\u001b[1m> Building 40% > :app:preDexDebug\u001b[22m\u001b[33D\u001b[0K(javassist.util.proxy.SecurityActions$5) that doesn't come with an\r\n",
        "\u001b[1m> Building 40% > :app:preDexDebug\u001b[22m\u001b[33D\u001b[0K\u001b[1A\u001b[66C\r\n",
        "\u001b[1m> Building 40% > :app:preDexDebug\u001b[22m\u001b[33D\u001b[0Kassociated EnclosingMethod attribute. This class was probably produced by a\r\n",
        "\u001b[1m> Building 40% > :app:preDexDebug\u001b[22m\u001b[33D\u001b[0K\u001b[1A\u001b[75C\r\n",
        "\u001b[1m> Building 40% > :app:preDexDebug\u001b[22m\u001b[33D\u001b[0Kcompiler that did not target the modern .class file format. The recommended\r\n",
        "\u001b[1m> Building 40% > :app:preDexDebug\u001b[22m\u001b[33D\u001b[0K\u001b[1A\u001b[75C\r\n",
        "\u001b[1m> Building 40% > :app:preDexDebug\u001b[22m\u001b[33D\u001b[0Ksolution is to recompile the class from source, using an up-to-date compiler\r\n",
        "\u001b[1m> Building 40% > :app:preDexDebug\u001b[22m\u001b[33D\u001b[0K\u001b[1A\u001b[76C\r\n",
        "\u001b[1m> Building 40% > :app:preDexDebug\u001b[22m\u001b[33D\u001b[0Kand without specifying any \"-target\" type options. The consequence of ignoring\r\n",
        "\u001b[1m> Building 40% > :app:preDexDebug\u001b[22m\u001b[33D\u001b[0K\u001b[1A\u001b[78C\r\n",
        "\u001b[1m> Building 40% > :app:preDexDebug\u001b[22m\u001b[33D\u001b[0Kthis warning is that reflective operations on this class will incorrectly\r\n",
        "\u001b[1m> Building 40% > :app:preDexDebug\u001b[22m\u001b[33D\u001b[0K\u001b[1A\u001b[73C\r\n",
        "\u001b[1m> Building 40% > :app:preDexDebug\u001b[22m\u001b[33D\u001b[0Kindicate that it is *not* an inner class.\r\n",
        "\u001b[1m> Building 40% > :app:preDexDebug\u001b[22m\u001b[33D\u001b[0K\u001b[1A\u001b[41C\r\n",
        "\u001b[1m> Building 40% > :app:preDexDebug\u001b[22m\u001b[33D\u001b[0Kwarning: Ignoring InnerClasses attribute for an anonymous inner class\r\n",
        "\u001b[1m> Building 40% > :app:preDexDebug\u001b[22m\u001b[33D\u001b[0K\u001b[1A\u001b[69C\r\n",
        "\u001b[1m> Building 40% > :app:preDexDebug\u001b[22m\u001b[33D\u001b[0K(javassist.util.proxy.SecurityActions$6) that doesn't come with an\r\n",
        "\u001b[1m> Building 40% > :app:preDexDebug\u001b[22m\u001b[33D\u001b[0K\u001b[1A\u001b[66C\r\n",
        "\u001b[1m> Building 40% > :app:preDexDebug\u001b[22m\u001b[33D\u001b[0Kassociated EnclosingMethod attribute. This class was probably produced by a\r\n",
        "\u001b[1m> Building 40% > :app:preDexDebug\u001b[22m\u001b[33D\u001b[0K\u001b[1A\u001b[75C\r\n",
        "\u001b[1m> Building 40% > :app:preDexDebug\u001b[22m\u001b[33D\u001b[0Kcompiler that did not target the modern .class file format. The recommended\r\n",
        "\u001b[1m> Building 40% > :app:preDexDebug\u001b[22m\u001b[33D\u001b[0K\u001b[1A\u001b[75C\r\n",
        "\u001b[1m> Building 40% > :app:preDexDebug\u001b[22m\u001b[33D\u001b[0Ksolution is to recompile the class from source, using an up-to-date compiler\r\n",
        "\u001b[1m> Building 40% > :app:preDexDebug\u001b[22m\u001b[33D\u001b[0K\u001b[1A\u001b[76C\r\n",
        "\u001b[1m> Building 40% > :app:preDexDebug\u001b[22m\u001b[33D\u001b[0Kand without specifying any \"-target\" type options. The consequence of ignoring\r\n",
        "\u001b[1m> Building 40% > :app:preDexDebug\u001b[22m\u001b[33D\u001b[0K\u001b[1A\u001b[78C\r\n",
        "\u001b[1m> Building 40% > :app:preDexDebug\u001b[22m\u001b[33D\u001b[0Kthis warning is that reflective operations on this class will incorrectly\r\n",
        "\u001b[1m> Building 40% > :app:preDexDebug\u001b[22m\u001b[33D\u001b[0K\u001b[1A\u001b[73C\r\n",
        "\u001b[1m> Building 40% > :app:preDexDebug\u001b[22m\u001b[33D\u001b[0Kindicate that it is *not* an inner class.\r\n",
        "\u001b[1m> Building 40% > :app:preDexDebug\u001b[22m\u001b[33D\u001b[0K\u001b[1A\u001b[41C\r\n",
        "\u001b[1m> Building 40% > :app:preDexDebug\u001b[22m"
       ]
      },
      {
       "output_type": "stream",
       "stream": "stdout",
       "text": [
        "\u001b[19D\u001b[0K\u001b[2D\u001b[1m1%\u001b[22m\u001b[1m > :app:dexDebug\u001b[22m"
       ]
      },
      {
       "output_type": "stream",
       "stream": "stdout",
       "text": [
        "\u001b[16D\u001b[0K\u001b[14D\u001b[0K:app:dexDebug\r\n",
        "\u001b[1m> Building 41%\u001b[22m\u001b[2D\u001b[1m2%\u001b[22m\u001b[1m > :app:processDebugJavaRes\u001b[22m\u001b[27D\u001b[0K\u001b[14D\u001b[0K:app:processDebugJavaRes \r\n",
        "\u001b[1m> Building 42%\u001b[22m\u001b[14D\u001b[0K\u001b[1A\u001b[25C\u001b[33mUP-TO-DATE\u001b[39m\r\n",
        "\u001b[1m> Building 42%\u001b[22m\u001b[14D\u001b[0K\u001b[1A\u001b[35C\r\n",
        "\u001b[1m> Building 42%\u001b[22m\u001b[2D\u001b[1m3%\u001b[22m\u001b[1m > :app:validateDebugSigning\u001b[22m\u001b[28D\u001b[0K\u001b[14D\u001b[0K:app:validateDebugSigning\r\n",
        "\u001b[1m> Building 43%\u001b[22m\u001b[2D\u001b[1m4%\u001b[22m\u001b[1m > :app:packageDebug\u001b[22m"
       ]
      },
      {
       "output_type": "stream",
       "stream": "stdout",
       "text": [
        "\u001b[20D\u001b[0K\u001b[14D\u001b[0K:app:packageDebug\r\n",
        "\u001b[1m> Building 44%\u001b[22m\u001b[2D\u001b[1m5%\u001b[22m\u001b[1m > :app:assembleDebug\u001b[22m\u001b[21D\u001b[0K\u001b[14D\u001b[0K:app:assembleDebug\r\n",
        "\u001b[1m> Building 45%\u001b[22m\u001b[1m > :mytrackslib:copyDebugLint\u001b[22m\u001b[29D\u001b[0K\u001b[14D\u001b[0K:mytrackslib:copyDebugLint \r\n",
        "\u001b[1m> Building 45%\u001b[22m\u001b[14D\u001b[0K\u001b[1A\u001b[27C\u001b[33mUP-TO-DATE\u001b[39m\r\n",
        "\u001b[1m> Building 45%\u001b[22m\u001b[14D\u001b[0K\u001b[1A\u001b[37C\r\n",
        "\u001b[1m> Building 45%\u001b[22m\u001b[2D\u001b[1m6%\u001b[22m\u001b[1m > :mytrackslib:mergeDebugProguardFiles\u001b[22m\u001b[39D\u001b[0K\u001b[14D\u001b[0K:mytrackslib:mergeDebugProguardFiles\r\n",
        "\u001b[1m> Building 46%\u001b[22m\u001b[2D\u001b[1m7%\u001b[22m\u001b[1m > :mytrackslib:packageDebugAidl\u001b[22m\u001b[32D\u001b[0K\u001b[14D\u001b[0K:mytrackslib:packageDebugAidl\r\n",
        "\u001b[1m> Building 47%\u001b[22m\u001b[2D\u001b[1m8%\u001b[22m\u001b[1m > :mytrackslib:checkDebugManifest\u001b[22m\u001b[34D\u001b[0K\u001b[14D\u001b[0K:mytrackslib:checkDebugManifest\r\n",
        "\u001b[1m> Building 48%\u001b[22m\u001b[2D\u001b[1m9%\u001b[22m\u001b[1m > :mytrackslib:prepareDebugDependencies\u001b[22m\u001b[40D\u001b[0K\u001b[14D\u001b[0K:mytrackslib:prepareDebugDependencies\r\n",
        "\u001b[1m> Building 49%\u001b[22m\u001b[3D\u001b[1m50%\u001b[22m\u001b[1m > :mytrackslib:compileDebugAidl\u001b[22m"
       ]
      },
      {
       "output_type": "stream",
       "stream": "stdout",
       "text": [
        "\u001b[32D\u001b[0K\u001b[14D\u001b[0K:mytrackslib:compileDebugAidl\r\n",
        "\u001b[1m> Building 50%\u001b[22m\u001b[1m > :mytrackslib:compileDebugRenderscript\u001b[22m"
       ]
      },
      {
       "output_type": "stream",
       "stream": "stdout",
       "text": [
        "\u001b[40D\u001b[0K\u001b[14D\u001b[0K:mytrackslib:compileDebugRenderscript\r\n",
        "\u001b[1m> Building 50%\u001b[22m\u001b[2D\u001b[1m1%\u001b[22m\u001b[1m > :mytrackslib:generateDebugBuildConfig\u001b[22m\u001b[40D\u001b[0K\u001b[14D\u001b[0K:mytrackslib:generateDebugBuildConfig\r\n",
        "\u001b[1m> Building 51%\u001b[22m\u001b[2D\u001b[1m2%\u001b[22m\u001b[1m > :mytrackslib:mergeDebugAssets\u001b[22m\u001b[32D\u001b[0K\u001b[14D\u001b[0K:mytrackslib:mergeDebugAssets\r\n",
        "\u001b[1m> Building 52%\u001b[22m\u001b[2D\u001b[1m3%\u001b[22m\u001b[1m > :mytrackslib:generateDebugResValues\u001b[22m\u001b[38D\u001b[0K\u001b[14D\u001b[0K:mytrackslib:generateDebugResValues\r\n",
        "\u001b[1m> Building 53%\u001b[22m\u001b[2D\u001b[1m4%\u001b[22m\u001b[1m > :mytrackslib:generateDebugResources\u001b[22m\u001b[38D\u001b[0K\u001b[14D\u001b[0K:mytrackslib:generateDebugResources\r\n",
        "\u001b[1m> Building 54%\u001b[22m\u001b[1m > :mytrackslib:mergeDebugResources\u001b[22m"
       ]
      },
      {
       "output_type": "stream",
       "stream": "stdout",
       "text": [
        "\u001b[35D\u001b[0K\u001b[14D\u001b[0K:mytrackslib:mergeDebugResources\r\n",
        "\u001b[1m> Building 54%\u001b[22m\u001b[2D\u001b[1m5%\u001b[22m\u001b[1m > :mytrackslib:processDebugManifest\u001b[22m"
       ]
      },
      {
       "output_type": "stream",
       "stream": "stdout",
       "text": [
        "\u001b[36D\u001b[0K\u001b[14D\u001b[0K:mytrackslib:processDebugManifest\r\n",
        "\u001b[1m> Building 55%\u001b[22m\u001b[2D\u001b[1m6%\u001b[22m\u001b[1m > :mytrackslib:processDebugResources\u001b[22m"
       ]
      },
      {
       "output_type": "stream",
       "stream": "stdout",
       "text": [
        "\u001b[37D\u001b[0K\u001b[14D\u001b[0K:mytrackslib:processDebugResources\r\n",
        "\u001b[1m> Building 56%\u001b[22m\u001b[2D\u001b[1m7%\u001b[22m\u001b[1m > :mytrackslib:generateDebugSources\u001b[22m\u001b[36D\u001b[0K\u001b[14D\u001b[0K:mytrackslib:generateDebugSources\r\n",
        "\u001b[1m> Building 57%\u001b[22m\u001b[2D\u001b[1m8%\u001b[22m\u001b[1m > :mytrackslib:compileDebugJava\u001b[22m"
       ]
      },
      {
       "output_type": "stream",
       "stream": "stdout",
       "text": [
        "\u001b[32D\u001b[0K\u001b[14D\u001b[0K:mytrackslib:compileDebugJava\r\n",
        "\u001b[1m> Building 58%\u001b[22m\u001b[2D\u001b[1m9%\u001b[22m\u001b[1m > :mytrackslib:processDebugJavaRes\u001b[22m\u001b[35D\u001b[0K\u001b[14D\u001b[0K:mytrackslib:processDebugJavaRes \r\n",
        "\u001b[1m> Building 59%\u001b[22m\u001b[14D\u001b[0K\u001b[1A\u001b[33C\u001b[33mUP-TO-DATE\u001b[39m\r\n",
        "\u001b[1m> Building 59%\u001b[22m\u001b[14D\u001b[0K\u001b[1A\u001b[43C\r\n",
        "\u001b[1m> Building 59%\u001b[22m\u001b[1m > :mytrackslib:packageDebugJar\u001b[22m"
       ]
      },
      {
       "output_type": "stream",
       "stream": "stdout",
       "text": [
        "\u001b[31D\u001b[0K\u001b[14D\u001b[0K:mytrackslib:packageDebugJar\r\n",
        "\u001b[1m> Building 59%\u001b[22m\u001b[3D\u001b[1m60%\u001b[22m\u001b[1m > :mytrackslib:compileDebugNdk\u001b[22m\u001b[31D\u001b[0K\u001b[14D\u001b[0K:mytrackslib:compileDebugNdk\r\n",
        "\u001b[1m> Building 60%\u001b[22m\u001b[2D\u001b[1m1%\u001b[22m\u001b[1m > :mytrackslib:packageDebugJniLibs\u001b[22m\u001b[35D\u001b[0K\u001b[14D\u001b[0K:mytrackslib:packageDebugJniLibs \r\n",
        "\u001b[1m> Building 61%\u001b[22m\u001b[14D\u001b[0K\u001b[1A\u001b[33C\u001b[33mUP-TO-DATE\u001b[39m\r\n",
        "\u001b[1m> Building 61%\u001b[22m\u001b[14D\u001b[0K\u001b[1A\u001b[43C\r\n",
        "\u001b[1m> Building 61%\u001b[22m\u001b[2D\u001b[1m2%\u001b[22m\u001b[1m > :mytrackslib:packageDebugLocalJar\u001b[22m\u001b[36D\u001b[0K\u001b[14D\u001b[0K:mytrackslib:packageDebugLocalJar\r\n",
        "\u001b[1m> Building 62%\u001b[22m\u001b[2D\u001b[1m3%\u001b[22m\u001b[1m > :mytrackslib:packageDebugRenderscript\u001b[22m\u001b[40D\u001b[0K\u001b[14D\u001b[0K:mytrackslib:packageDebugRenderscript \r\n",
        "\u001b[1m> Building 63%\u001b[22m\u001b[14D\u001b[0K\u001b[1A\u001b[38C\u001b[33mUP-TO-DATE\u001b[39m\r\n",
        "\u001b[1m> Building 63%\u001b[22m\u001b[14D\u001b[0K\u001b[1A\u001b[48C\r\n",
        "\u001b[1m> Building 63%\u001b[22m\u001b[1m > :mytrackslib:packageDebugResources\u001b[22m\u001b[37D\u001b[0K\u001b[14D\u001b[0K:mytrackslib:packageDebugResources\r\n",
        "\u001b[1m> Building 63%\u001b[22m\u001b[2D\u001b[1m4%\u001b[22m\u001b[1m > :mytrackslib:bundleDebug\u001b[22m"
       ]
      },
      {
       "output_type": "stream",
       "stream": "stdout",
       "text": [
        "\u001b[27D\u001b[0K\u001b[14D\u001b[0K:mytrackslib:bundleDebug\r\n",
        "\u001b[1m> Building 64%\u001b[22m\u001b[2D\u001b[1m5%\u001b[22m\u001b[1m > :mytrackslib:assembleDebug\u001b[22m\u001b[29D\u001b[0K\u001b[14D\u001b[0K:mytrackslib:assembleDebug\r\n",
        "\u001b[1m> Building 65%\u001b[22m\u001b[2D\u001b[1m6%\u001b[22m\u001b[1m > :app:compileDebugTestNdk\u001b[22m\u001b[27D\u001b[0K\u001b[14D\u001b[0K:app:compileDebugTestNdk\r\n",
        "\u001b[1m> Building 66%\u001b[22m\u001b[2D\u001b[1m7%\u001b[22m\u001b[1m > :app:preDebugTestBuild\u001b[22m\u001b[25D\u001b[0K\u001b[14D\u001b[0K:app:preDebugTestBuild\r\n",
        "\u001b[1m> Building 67%\u001b[22m\u001b[2D\u001b[1m8%\u001b[22m\u001b[1m > :app:prepareComJakewhartonEspressoEspresso11R2Library\u001b[22m\u001b[56D\u001b[0K\u001b[14D\u001b[0K:app:prepareComJakewhartonEspressoEspresso11R2Library\r\n",
        "\u001b[1m> Building 68%\u001b[22m\u001b[1m > :app:prepareComJakewhartonEspressoEspressoRunner11R2Library\u001b[22m"
       ]
      },
      {
       "output_type": "stream",
       "stream": "stdout",
       "text": [
        "\u001b[62D\u001b[0K\u001b[14D\u001b[0K:app:prepareComJakewhartonEspressoEspressoRunner11R2Library\r\n",
        "\u001b[1m> Building 68%\u001b[22m\u001b[2D\u001b[1m9%\u001b[22m\u001b[1m > :app:prepareComJakewhartonEspressoEspressoRunnerRuntime11R2Library\u001b[22m\u001b[69D\u001b[0K\u001b[14D\u001b[0K:app:prepareComJakewhartonEspressoEspressoRunnerRuntime11R2Library\r\n",
        "\u001b[1m> Building 69%\u001b[22m\u001b[3D\u001b[1m70%\u001b[22m\u001b[1m > :app:prepareDebugTestDependencies\u001b[22m\u001b[36D\u001b[0K\u001b[14D\u001b[0K:app:prepareDebugTestDependencies\r\n",
        "\u001b[1m> Building 70%\u001b[22m\u001b[2D\u001b[1m1%\u001b[22m\u001b[1m > :app:compileDebugTestAidl\u001b[22m\u001b[28D\u001b[0K\u001b[14D\u001b[0K:app:compileDebugTestAidl\r\n",
        "\u001b[1m> Building 71%\u001b[22m\u001b[2D\u001b[1m2%\u001b[22m\u001b[1m > :app:processDebugTestManifest\u001b[22m"
       ]
      },
      {
       "output_type": "stream",
       "stream": "stdout",
       "text": [
        "\u001b[32D\u001b[0K\u001b[14D\u001b[0K:app:processDebugTestManifest\r\n",
        "\u001b[1m> Building 72%\u001b[22m\u001b[1m > :app:compileDebugTestRenderscript\u001b[22m\u001b[36D\u001b[0K\u001b[14D\u001b[0K:app:compileDebugTestRenderscript\r\n",
        "\u001b[1m> Building 72%\u001b[22m\u001b[2D\u001b[1m3%\u001b[22m\u001b[1m > :app:generateDebugTestBuildConfig\u001b[22m\u001b[36D\u001b[0K\u001b[14D\u001b[0K:app:generateDebugTestBuildConfig\r\n",
        "\u001b[1m> Building 73%\u001b[22m\u001b[2D\u001b[1m4%\u001b[22m\u001b[1m > :app:mergeDebugTestAssets\u001b[22m\u001b[28D\u001b[0K\u001b[14D\u001b[0K:app:mergeDebugTestAssets\r\n",
        "\u001b[1m> Building 74%\u001b[22m\u001b[2D\u001b[1m5%\u001b[22m\u001b[1m > :app:generateDebugTestResValues\u001b[22m\u001b[34D\u001b[0K\u001b[14D\u001b[0K:app:generateDebugTestResValues\r\n",
        "\u001b[1m> Building 75%\u001b[22m\u001b[2D\u001b[1m6%\u001b[22m\u001b[1m > :app:generateDebugTestResources\u001b[22m\u001b[34D\u001b[0K\u001b[14D\u001b[0K:app:generateDebugTestResources\r\n",
        "\u001b[1m> Building 76%\u001b[22m\u001b[2D\u001b[1m7%\u001b[22m\u001b[1m > :app:mergeDebugTestResources\u001b[22m"
       ]
      },
      {
       "output_type": "stream",
       "stream": "stdout",
       "text": [
        "\u001b[31D\u001b[0K\u001b[14D\u001b[0K:app:mergeDebugTestResources\r\n",
        "\u001b[1m> Building 77%\u001b[22m\u001b[1m > :app:processDebugTestResources\u001b[22m\u001b[33D\u001b[0K"
       ]
      },
      {
       "output_type": "stream",
       "stream": "stdout",
       "text": [
        "\u001b[14D\u001b[0K:app:processDebugTestResources\r\n",
        "\u001b[1m> Building 77%\u001b[22m\u001b[2D\u001b[1m8%\u001b[22m\u001b[1m > :app:generateDebugTestSources\u001b[22m\u001b[32D\u001b[0K\u001b[14D\u001b[0K:app:generateDebugTestSources\r\n",
        "\u001b[1m> Building 78%\u001b[22m\u001b[2D\u001b[1m9%\u001b[22m\u001b[1m > :app:compileDebugTestJava\u001b[22m"
       ]
      },
      {
       "output_type": "stream",
       "stream": "stdout",
       "text": [
        "\u001b[42D\u001b[0K:app:compileDebugTestJava\r\n",
        "\u001b[1m> Building 79% > :app:compileDebugTestJava\u001b[22m\u001b[42D\u001b[0Kwarning: Supported source version 'RELEASE_5' from annotation processor 'com.google.android.testing.mocking.UsesMocksProcessor' less than -source '1.6'\r\n",
        "\u001b[1m> Building 79% > :app:compileDebugTestJava\u001b[22m"
       ]
      },
      {
       "output_type": "stream",
       "stream": "stdout",
       "text": [
        "\u001b[42D\u001b[0K1 warning\r\n",
        "\u001b[1m> Building 79% > :app:compileDebugTestJava\u001b[22m\u001b[28D\u001b[0K\u001b[3D\u001b[1m80%\u001b[22m\u001b[1m > :app:preDexDebugTest\u001b[22m"
       ]
      },
      {
       "output_type": "stream",
       "stream": "stdout",
       "text": [
        "\u001b[23D\u001b[0K\u001b[14D\u001b[0K:app:preDexDebugTest\r\n",
        "\u001b[1m> Building 80%\u001b[22m\u001b[2D\u001b[1m1%\u001b[22m\u001b[1m > :app:dexDebugTest\u001b[22m"
       ]
      },
      {
       "output_type": "stream",
       "stream": "stdout",
       "text": [
        "\u001b[20D\u001b[0K\u001b[14D\u001b[0K:app:dexDebugTest\r\n",
        "\u001b[1m> Building 81%\u001b[22m\u001b[1m > :app:processDebugTestJavaRes\u001b[22m\u001b[31D\u001b[0K\u001b[14D\u001b[0K:app:processDebugTestJavaRes \r\n",
        "\u001b[1m> Building 81%\u001b[22m\u001b[14D\u001b[0K\u001b[1A\u001b[29C\u001b[33mUP-TO-DATE\u001b[39m\r\n",
        "\u001b[1m> Building 81%\u001b[22m\u001b[14D\u001b[0K\u001b[1A\u001b[39C\r\n",
        "\u001b[1m> Building 81%\u001b[22m\u001b[2D\u001b[1m2%\u001b[22m\u001b[1m > :app:packageDebugTest\u001b[22m"
       ]
      },
      {
       "output_type": "stream",
       "stream": "stdout",
       "text": [
        "\u001b[24D\u001b[0K\u001b[14D\u001b[0K:app:packageDebugTest\r\n",
        "\u001b[1m> Building 82%\u001b[22m\u001b[2D\u001b[1m3%\u001b[22m\u001b[1m > :app:assembleDebugTest\u001b[22m\u001b[25D\u001b[0K\u001b[14D\u001b[0K:app:assembleDebugTest\r\n",
        "\u001b[1m> Building 83%\u001b[22m\u001b[2D\u001b[1m4%\u001b[22m\u001b[1m > :mytrackslib:compileDebugTestNdk\u001b[22m\u001b[35D\u001b[0K\u001b[14D\u001b[0K:mytrackslib:compileDebugTestNdk\r\n",
        "\u001b[1m> Building 84%\u001b[22m\u001b[2D\u001b[1m5%\u001b[22m\u001b[1m > :mytrackslib:prepareDebugTestDependencies\u001b[22m\u001b[44D\u001b[0K\u001b[14D\u001b[0K:mytrackslib:prepareDebugTestDependencies\r\n",
        "\u001b[1m> Building 85%\u001b[22m\u001b[2D\u001b[1m6%\u001b[22m\u001b[1m > :mytrackslib:compileDebugTestAidl\u001b[22m\u001b[36D\u001b[0K\u001b[14D\u001b[0K:mytrackslib:compileDebugTestAidl\r\n",
        "\u001b[1m> Building 86%\u001b[22m\u001b[1m > :mytrackslib:processDebugTestManifest\u001b[22m"
       ]
      },
      {
       "output_type": "stream",
       "stream": "stdout",
       "text": [
        "\u001b[40D\u001b[0K\u001b[14D\u001b[0K:mytrackslib:processDebugTestManifest\r\n",
        "\u001b[1m> Building 86%\u001b[22m\u001b[2D\u001b[1m7%\u001b[22m\u001b[1m > :mytrackslib:compileDebugTestRenderscript\u001b[22m\u001b[44D\u001b[0K\u001b[14D\u001b[0K:mytrackslib:compileDebugTestRenderscript\r\n",
        "\u001b[1m> Building 87%\u001b[22m\u001b[2D\u001b[1m8%\u001b[22m\u001b[1m > :mytrackslib:generateDebugTestBuildConfig\u001b[22m"
       ]
      },
      {
       "output_type": "stream",
       "stream": "stdout",
       "text": [
        "\u001b[44D\u001b[0K\u001b[14D\u001b[0K:mytrackslib:generateDebugTestBuildConfig\r\n",
        "\u001b[1m> Building 88%\u001b[22m\u001b[2D\u001b[1m9%\u001b[22m\u001b[1m > :mytrackslib:mergeDebugTestAssets\u001b[22m\u001b[36D\u001b[0K\u001b[14D\u001b[0K:mytrackslib:mergeDebugTestAssets\r\n",
        "\u001b[1m> Building 89%\u001b[22m\u001b[3D\u001b[1m90%\u001b[22m\u001b[1m > :mytrackslib:generateDebugTestResValues\u001b[22m\u001b[42D\u001b[0K\u001b[14D\u001b[0K:mytrackslib:generateDebugTestResValues\r\n",
        "\u001b[1m> Building 90%\u001b[22m\u001b[1m > :mytrackslib:generateDebugTestResources\u001b[22m\u001b[42D\u001b[0K\u001b[14D\u001b[0K:mytrackslib:generateDebugTestResources\r\n",
        "\u001b[1m> Building 90%\u001b[22m\u001b[2D\u001b[1m1%\u001b[22m\u001b[1m > :mytrackslib:mergeDebugTestResources\u001b[22m"
       ]
      },
      {
       "output_type": "stream",
       "stream": "stdout",
       "text": [
        "\u001b[39D\u001b[0K\u001b[14D\u001b[0K:mytrackslib:mergeDebugTestResources\r\n",
        "\u001b[1m> Building 91%\u001b[22m\u001b[2D\u001b[1m2%\u001b[22m\u001b[1m > :mytrackslib:processDebugTestResources\u001b[22m"
       ]
      },
      {
       "output_type": "stream",
       "stream": "stdout",
       "text": [
        "\u001b[41D\u001b[0K"
       ]
      },
      {
       "output_type": "stream",
       "stream": "stdout",
       "text": [
        "\u001b[14D\u001b[0K:mytrackslib:processDebugTestResources\r\n",
        "\u001b[1m> Building 92%\u001b[22m\u001b[2D\u001b[1m3%\u001b[22m\u001b[1m > :mytrackslib:generateDebugTestSources\u001b[22m\u001b[40D\u001b[0K\u001b[14D\u001b[0K:mytrackslib:generateDebugTestSources\r\n",
        "\u001b[1m> Building 93%\u001b[22m\u001b[2D\u001b[1m4%\u001b[22m\u001b[1m > :mytrackslib:compileDebugTestJava\u001b[22m"
       ]
      },
      {
       "output_type": "stream",
       "stream": "stdout",
       "text": [
        "\u001b[36D\u001b[0K\u001b[14D\u001b[0K:mytrackslib:compileDebugTestJava\r\n",
        "\u001b[1m> Building 94%\u001b[22m\u001b[2D\u001b[1m5%\u001b[22m\u001b[1m > :mytrackslib:preDexDebugTest\u001b[22m"
       ]
      },
      {
       "output_type": "stream",
       "stream": "stdout",
       "text": [
        "\u001b[31D\u001b[0K\u001b[14D\u001b[0K:mytrackslib:preDexDebugTest\r\n",
        "\u001b[1m> Building 95%\u001b[22m\u001b[1m > :mytrackslib:dexDebugTest\u001b[22m"
       ]
      },
      {
       "output_type": "stream",
       "stream": "stdout",
       "text": [
        "\u001b[28D\u001b[0K\u001b[14D\u001b[0K:mytrackslib:dexDebugTest\r\n",
        "\u001b[1m> Building 95%\u001b[22m\u001b[2D\u001b[1m6%\u001b[22m\u001b[1m > :mytrackslib:processDebugTestJavaRes\u001b[22m\u001b[39D\u001b[0K\u001b[14D\u001b[0K:mytrackslib:processDebugTestJavaRes \r\n",
        "\u001b[1m> Building 96%\u001b[22m\u001b[14D\u001b[0K\u001b[1A\u001b[37C\u001b[33mUP-TO-DATE\u001b[39m\r\n",
        "\u001b[1m> Building 96%\u001b[22m\u001b[14D\u001b[0K\u001b[1A\u001b[47C\r\n",
        "\u001b[1m> Building 96%\u001b[22m\u001b[2D\u001b[1m7%\u001b[22m\u001b[1m > :mytrackslib:validateDebugSigning\u001b[22m\u001b[36D\u001b[0K\u001b[14D\u001b[0K:mytrackslib:validateDebugSigning\r\n",
        "\u001b[1m> Building 97%\u001b[22m\u001b[2D\u001b[1m8%\u001b[22m\u001b[1m > :mytrackslib:packageDebugTest\u001b[22m"
       ]
      },
      {
       "output_type": "stream",
       "stream": "stdout",
       "text": [
        "\u001b[32D\u001b[0K\u001b[14D\u001b[0K:mytrackslib:packageDebugTest\r\n",
        "\u001b[1m> Building 98%\u001b[22m\u001b[2D\u001b[1m9%\u001b[22m\u001b[1m > :mytrackslib:assembleDebugTest\u001b[22m\u001b[33D\u001b[0K\u001b[14D\u001b[0K:mytrackslib:assembleDebugTest\r\n",
        "\u001b[1m> Building 99%\u001b[22m\u001b[3D\u001b[1m100%\u001b[22m\u001b[15D\u001b[0K\r\n",
        "\u001b[1m> Building 100%\u001b[22m\u001b[15D\u001b[0KBUILD SUCCESSFUL\r\n",
        "\u001b[1m> Building 100%\u001b[22m\u001b[15D\u001b[0K\u001b[1A\u001b[16C\r\n",
        "\u001b[1m> Building 100%\u001b[22m\u001b[15D\u001b[0K\r\n",
        "\u001b[1m> Building 100%\u001b[22m\u001b[15D\u001b[0KTotal time: 2 mins 16.005 secs\r\n",
        "\u001b[1m> Building 100%\u001b[22m"
       ]
      },
      {
       "output_type": "stream",
       "stream": "stdout",
       "text": [
        "\u001b[15D\u001b[0K\u001b[m"
       ]
      }
     ],
     "prompt_number": 2
    },
    {
     "cell_type": "heading",
     "level": 3,
     "metadata": {},
     "source": [
      "Spoon runner"
     ]
    },
    {
     "cell_type": "code",
     "collapsed": false,
     "input": [
      "apkPath = \"app/build/apk/app-debug-unaligned.apk\"\n",
      "testPath = \"app/build/apk/app-debug-test-unaligned.apk\"\n",
      "testOpt = \"--test-apk\"\n",
      "apkOpt = \"--apk\"\n",
      "spoonPath = \"tools/spoon-runner-1.1.1-jar-with-dependencies.jar\""
     ],
     "language": "python",
     "metadata": {},
     "outputs": [],
     "prompt_number": 13
    },
    {
     "cell_type": "code",
     "collapsed": false,
     "input": [
      "!java -jar $spoonPath $testOpt $testPath $apkOpt $apkPath"
     ],
     "language": "python",
     "metadata": {},
     "outputs": [
      {
       "output_type": "stream",
       "stream": "stdout",
       "text": [
        "2014-05-20 19:31:37 [SR.runTests] Executing instrumentation suite on 4 device(s).\r\n"
       ]
      }
     ],
     "prompt_number": 14
    },
    {
     "cell_type": "code",
     "collapsed": false,
     "input": [],
     "language": "python",
     "metadata": {},
     "outputs": []
    }
   ],
   "metadata": {}
  }
 ]
}